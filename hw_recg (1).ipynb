{
  "cells": [
    {
      "cell_type": "markdown",
      "metadata": {
        "id": "ElxFizkJVjHc"
      },
      "source": [
        "#Imports"
      ]
    },
    {
      "cell_type": "code",
      "execution_count": 608,
      "metadata": {
        "id": "dvQxPRmLMdPP"
      },
      "outputs": [],
      "source": [
        "import numpy as np\n",
        "import pandas as pd\n",
        "import matplotlib.pyplot as plt\n",
        "import seaborn as sns\n",
        "import math as m\n",
        "from sklearn.model_selection import train_test_split"
      ]
    },
    {
      "cell_type": "code",
      "execution_count": 609,
      "metadata": {
        "colab": {
          "base_uri": "https://localhost:8080/",
          "height": 299
        },
        "id": "a2LLFRrjM5HO",
        "outputId": "930b2547-4619-4a78-de11-5ef81494de1e"
      },
      "outputs": [
        {
          "output_type": "execute_result",
          "data": {
            "text/html": [
              "\n",
              "  <div id=\"df-5cdeb3f8-df8e-4d7f-b236-22e7d12a51fe\">\n",
              "    <div class=\"colab-df-container\">\n",
              "      <div>\n",
              "<style scoped>\n",
              "    .dataframe tbody tr th:only-of-type {\n",
              "        vertical-align: middle;\n",
              "    }\n",
              "\n",
              "    .dataframe tbody tr th {\n",
              "        vertical-align: top;\n",
              "    }\n",
              "\n",
              "    .dataframe thead th {\n",
              "        text-align: right;\n",
              "    }\n",
              "</style>\n",
              "<table border=\"1\" class=\"dataframe\">\n",
              "  <thead>\n",
              "    <tr style=\"text-align: right;\">\n",
              "      <th></th>\n",
              "      <th>0</th>\n",
              "      <th>0.1</th>\n",
              "      <th>0.2</th>\n",
              "      <th>0.3</th>\n",
              "      <th>0.4</th>\n",
              "      <th>0.5</th>\n",
              "      <th>0.6</th>\n",
              "      <th>0.7</th>\n",
              "      <th>0.8</th>\n",
              "      <th>0.9</th>\n",
              "      <th>0.10</th>\n",
              "      <th>0.11</th>\n",
              "      <th>0.12</th>\n",
              "      <th>0.13</th>\n",
              "      <th>0.14</th>\n",
              "      <th>0.15</th>\n",
              "      <th>0.16</th>\n",
              "      <th>0.17</th>\n",
              "      <th>0.18</th>\n",
              "      <th>0.19</th>\n",
              "      <th>0.20</th>\n",
              "      <th>0.21</th>\n",
              "      <th>0.22</th>\n",
              "      <th>0.23</th>\n",
              "      <th>0.24</th>\n",
              "      <th>0.25</th>\n",
              "      <th>0.26</th>\n",
              "      <th>0.27</th>\n",
              "      <th>0.28</th>\n",
              "      <th>0.29</th>\n",
              "      <th>0.30</th>\n",
              "      <th>0.31</th>\n",
              "      <th>0.32</th>\n",
              "      <th>0.33</th>\n",
              "      <th>0.34</th>\n",
              "      <th>0.35</th>\n",
              "      <th>0.36</th>\n",
              "      <th>0.37</th>\n",
              "      <th>0.38</th>\n",
              "      <th>0.39</th>\n",
              "      <th>...</th>\n",
              "      <th>0.609</th>\n",
              "      <th>0.610</th>\n",
              "      <th>0.611</th>\n",
              "      <th>0.612</th>\n",
              "      <th>0.613</th>\n",
              "      <th>0.614</th>\n",
              "      <th>0.615</th>\n",
              "      <th>0.616</th>\n",
              "      <th>0.617</th>\n",
              "      <th>0.618</th>\n",
              "      <th>0.619</th>\n",
              "      <th>0.620</th>\n",
              "      <th>0.621</th>\n",
              "      <th>0.622</th>\n",
              "      <th>0.623</th>\n",
              "      <th>0.624</th>\n",
              "      <th>0.625</th>\n",
              "      <th>0.626</th>\n",
              "      <th>0.627</th>\n",
              "      <th>0.628</th>\n",
              "      <th>0.629</th>\n",
              "      <th>0.630</th>\n",
              "      <th>0.631</th>\n",
              "      <th>0.632</th>\n",
              "      <th>0.633</th>\n",
              "      <th>0.634</th>\n",
              "      <th>0.635</th>\n",
              "      <th>0.636</th>\n",
              "      <th>0.637</th>\n",
              "      <th>0.638</th>\n",
              "      <th>0.639</th>\n",
              "      <th>0.640</th>\n",
              "      <th>0.641</th>\n",
              "      <th>0.642</th>\n",
              "      <th>0.643</th>\n",
              "      <th>0.644</th>\n",
              "      <th>0.645</th>\n",
              "      <th>0.646</th>\n",
              "      <th>0.647</th>\n",
              "      <th>0.648</th>\n",
              "    </tr>\n",
              "  </thead>\n",
              "  <tbody>\n",
              "    <tr>\n",
              "      <th>0</th>\n",
              "      <td>0</td>\n",
              "      <td>0</td>\n",
              "      <td>0</td>\n",
              "      <td>0</td>\n",
              "      <td>0</td>\n",
              "      <td>0</td>\n",
              "      <td>0</td>\n",
              "      <td>0</td>\n",
              "      <td>0</td>\n",
              "      <td>0</td>\n",
              "      <td>0</td>\n",
              "      <td>0</td>\n",
              "      <td>0</td>\n",
              "      <td>0</td>\n",
              "      <td>0</td>\n",
              "      <td>0</td>\n",
              "      <td>0</td>\n",
              "      <td>0</td>\n",
              "      <td>0</td>\n",
              "      <td>0</td>\n",
              "      <td>0</td>\n",
              "      <td>0</td>\n",
              "      <td>0</td>\n",
              "      <td>0</td>\n",
              "      <td>0</td>\n",
              "      <td>0</td>\n",
              "      <td>0</td>\n",
              "      <td>0</td>\n",
              "      <td>0</td>\n",
              "      <td>0</td>\n",
              "      <td>0</td>\n",
              "      <td>0</td>\n",
              "      <td>0</td>\n",
              "      <td>0</td>\n",
              "      <td>0</td>\n",
              "      <td>0</td>\n",
              "      <td>0</td>\n",
              "      <td>0</td>\n",
              "      <td>0</td>\n",
              "      <td>0</td>\n",
              "      <td>...</td>\n",
              "      <td>0</td>\n",
              "      <td>0</td>\n",
              "      <td>0</td>\n",
              "      <td>0</td>\n",
              "      <td>0</td>\n",
              "      <td>0</td>\n",
              "      <td>0</td>\n",
              "      <td>0</td>\n",
              "      <td>0</td>\n",
              "      <td>0</td>\n",
              "      <td>0</td>\n",
              "      <td>0</td>\n",
              "      <td>0</td>\n",
              "      <td>0</td>\n",
              "      <td>0</td>\n",
              "      <td>0</td>\n",
              "      <td>0</td>\n",
              "      <td>0</td>\n",
              "      <td>0</td>\n",
              "      <td>0</td>\n",
              "      <td>0</td>\n",
              "      <td>0</td>\n",
              "      <td>0</td>\n",
              "      <td>0</td>\n",
              "      <td>0</td>\n",
              "      <td>0</td>\n",
              "      <td>0</td>\n",
              "      <td>0</td>\n",
              "      <td>0</td>\n",
              "      <td>0</td>\n",
              "      <td>0</td>\n",
              "      <td>0</td>\n",
              "      <td>0</td>\n",
              "      <td>0</td>\n",
              "      <td>0</td>\n",
              "      <td>0</td>\n",
              "      <td>0</td>\n",
              "      <td>0</td>\n",
              "      <td>0</td>\n",
              "      <td>0</td>\n",
              "    </tr>\n",
              "    <tr>\n",
              "      <th>1</th>\n",
              "      <td>0</td>\n",
              "      <td>0</td>\n",
              "      <td>0</td>\n",
              "      <td>0</td>\n",
              "      <td>0</td>\n",
              "      <td>0</td>\n",
              "      <td>0</td>\n",
              "      <td>0</td>\n",
              "      <td>0</td>\n",
              "      <td>0</td>\n",
              "      <td>0</td>\n",
              "      <td>0</td>\n",
              "      <td>0</td>\n",
              "      <td>0</td>\n",
              "      <td>0</td>\n",
              "      <td>0</td>\n",
              "      <td>0</td>\n",
              "      <td>0</td>\n",
              "      <td>0</td>\n",
              "      <td>0</td>\n",
              "      <td>0</td>\n",
              "      <td>0</td>\n",
              "      <td>0</td>\n",
              "      <td>0</td>\n",
              "      <td>0</td>\n",
              "      <td>0</td>\n",
              "      <td>0</td>\n",
              "      <td>0</td>\n",
              "      <td>0</td>\n",
              "      <td>0</td>\n",
              "      <td>0</td>\n",
              "      <td>0</td>\n",
              "      <td>0</td>\n",
              "      <td>0</td>\n",
              "      <td>0</td>\n",
              "      <td>0</td>\n",
              "      <td>0</td>\n",
              "      <td>0</td>\n",
              "      <td>0</td>\n",
              "      <td>0</td>\n",
              "      <td>...</td>\n",
              "      <td>0</td>\n",
              "      <td>0</td>\n",
              "      <td>0</td>\n",
              "      <td>0</td>\n",
              "      <td>0</td>\n",
              "      <td>0</td>\n",
              "      <td>0</td>\n",
              "      <td>0</td>\n",
              "      <td>0</td>\n",
              "      <td>0</td>\n",
              "      <td>0</td>\n",
              "      <td>0</td>\n",
              "      <td>0</td>\n",
              "      <td>0</td>\n",
              "      <td>0</td>\n",
              "      <td>0</td>\n",
              "      <td>0</td>\n",
              "      <td>0</td>\n",
              "      <td>0</td>\n",
              "      <td>0</td>\n",
              "      <td>0</td>\n",
              "      <td>0</td>\n",
              "      <td>0</td>\n",
              "      <td>0</td>\n",
              "      <td>0</td>\n",
              "      <td>0</td>\n",
              "      <td>0</td>\n",
              "      <td>0</td>\n",
              "      <td>0</td>\n",
              "      <td>0</td>\n",
              "      <td>0</td>\n",
              "      <td>0</td>\n",
              "      <td>0</td>\n",
              "      <td>0</td>\n",
              "      <td>0</td>\n",
              "      <td>0</td>\n",
              "      <td>0</td>\n",
              "      <td>0</td>\n",
              "      <td>0</td>\n",
              "      <td>0</td>\n",
              "    </tr>\n",
              "    <tr>\n",
              "      <th>2</th>\n",
              "      <td>0</td>\n",
              "      <td>0</td>\n",
              "      <td>0</td>\n",
              "      <td>0</td>\n",
              "      <td>0</td>\n",
              "      <td>0</td>\n",
              "      <td>0</td>\n",
              "      <td>0</td>\n",
              "      <td>0</td>\n",
              "      <td>0</td>\n",
              "      <td>0</td>\n",
              "      <td>0</td>\n",
              "      <td>0</td>\n",
              "      <td>0</td>\n",
              "      <td>0</td>\n",
              "      <td>0</td>\n",
              "      <td>0</td>\n",
              "      <td>0</td>\n",
              "      <td>0</td>\n",
              "      <td>0</td>\n",
              "      <td>0</td>\n",
              "      <td>0</td>\n",
              "      <td>0</td>\n",
              "      <td>0</td>\n",
              "      <td>0</td>\n",
              "      <td>0</td>\n",
              "      <td>0</td>\n",
              "      <td>0</td>\n",
              "      <td>0</td>\n",
              "      <td>0</td>\n",
              "      <td>0</td>\n",
              "      <td>0</td>\n",
              "      <td>0</td>\n",
              "      <td>0</td>\n",
              "      <td>0</td>\n",
              "      <td>0</td>\n",
              "      <td>0</td>\n",
              "      <td>0</td>\n",
              "      <td>0</td>\n",
              "      <td>0</td>\n",
              "      <td>...</td>\n",
              "      <td>0</td>\n",
              "      <td>0</td>\n",
              "      <td>0</td>\n",
              "      <td>0</td>\n",
              "      <td>0</td>\n",
              "      <td>0</td>\n",
              "      <td>0</td>\n",
              "      <td>0</td>\n",
              "      <td>0</td>\n",
              "      <td>0</td>\n",
              "      <td>0</td>\n",
              "      <td>0</td>\n",
              "      <td>0</td>\n",
              "      <td>0</td>\n",
              "      <td>0</td>\n",
              "      <td>0</td>\n",
              "      <td>0</td>\n",
              "      <td>0</td>\n",
              "      <td>0</td>\n",
              "      <td>0</td>\n",
              "      <td>0</td>\n",
              "      <td>0</td>\n",
              "      <td>0</td>\n",
              "      <td>0</td>\n",
              "      <td>0</td>\n",
              "      <td>0</td>\n",
              "      <td>0</td>\n",
              "      <td>0</td>\n",
              "      <td>0</td>\n",
              "      <td>0</td>\n",
              "      <td>0</td>\n",
              "      <td>0</td>\n",
              "      <td>0</td>\n",
              "      <td>0</td>\n",
              "      <td>0</td>\n",
              "      <td>0</td>\n",
              "      <td>0</td>\n",
              "      <td>0</td>\n",
              "      <td>0</td>\n",
              "      <td>0</td>\n",
              "    </tr>\n",
              "    <tr>\n",
              "      <th>3</th>\n",
              "      <td>0</td>\n",
              "      <td>0</td>\n",
              "      <td>0</td>\n",
              "      <td>0</td>\n",
              "      <td>0</td>\n",
              "      <td>0</td>\n",
              "      <td>0</td>\n",
              "      <td>0</td>\n",
              "      <td>0</td>\n",
              "      <td>0</td>\n",
              "      <td>0</td>\n",
              "      <td>0</td>\n",
              "      <td>0</td>\n",
              "      <td>0</td>\n",
              "      <td>0</td>\n",
              "      <td>0</td>\n",
              "      <td>0</td>\n",
              "      <td>0</td>\n",
              "      <td>0</td>\n",
              "      <td>0</td>\n",
              "      <td>0</td>\n",
              "      <td>0</td>\n",
              "      <td>0</td>\n",
              "      <td>0</td>\n",
              "      <td>0</td>\n",
              "      <td>0</td>\n",
              "      <td>0</td>\n",
              "      <td>0</td>\n",
              "      <td>0</td>\n",
              "      <td>0</td>\n",
              "      <td>0</td>\n",
              "      <td>0</td>\n",
              "      <td>0</td>\n",
              "      <td>0</td>\n",
              "      <td>0</td>\n",
              "      <td>0</td>\n",
              "      <td>0</td>\n",
              "      <td>0</td>\n",
              "      <td>0</td>\n",
              "      <td>0</td>\n",
              "      <td>...</td>\n",
              "      <td>0</td>\n",
              "      <td>0</td>\n",
              "      <td>0</td>\n",
              "      <td>0</td>\n",
              "      <td>0</td>\n",
              "      <td>0</td>\n",
              "      <td>0</td>\n",
              "      <td>0</td>\n",
              "      <td>0</td>\n",
              "      <td>0</td>\n",
              "      <td>0</td>\n",
              "      <td>0</td>\n",
              "      <td>0</td>\n",
              "      <td>0</td>\n",
              "      <td>0</td>\n",
              "      <td>0</td>\n",
              "      <td>0</td>\n",
              "      <td>0</td>\n",
              "      <td>0</td>\n",
              "      <td>0</td>\n",
              "      <td>0</td>\n",
              "      <td>0</td>\n",
              "      <td>0</td>\n",
              "      <td>0</td>\n",
              "      <td>0</td>\n",
              "      <td>0</td>\n",
              "      <td>0</td>\n",
              "      <td>0</td>\n",
              "      <td>0</td>\n",
              "      <td>0</td>\n",
              "      <td>0</td>\n",
              "      <td>0</td>\n",
              "      <td>0</td>\n",
              "      <td>0</td>\n",
              "      <td>0</td>\n",
              "      <td>0</td>\n",
              "      <td>0</td>\n",
              "      <td>0</td>\n",
              "      <td>0</td>\n",
              "      <td>0</td>\n",
              "    </tr>\n",
              "    <tr>\n",
              "      <th>4</th>\n",
              "      <td>0</td>\n",
              "      <td>0</td>\n",
              "      <td>0</td>\n",
              "      <td>0</td>\n",
              "      <td>0</td>\n",
              "      <td>0</td>\n",
              "      <td>0</td>\n",
              "      <td>0</td>\n",
              "      <td>0</td>\n",
              "      <td>0</td>\n",
              "      <td>0</td>\n",
              "      <td>0</td>\n",
              "      <td>0</td>\n",
              "      <td>0</td>\n",
              "      <td>0</td>\n",
              "      <td>0</td>\n",
              "      <td>0</td>\n",
              "      <td>0</td>\n",
              "      <td>0</td>\n",
              "      <td>0</td>\n",
              "      <td>0</td>\n",
              "      <td>0</td>\n",
              "      <td>0</td>\n",
              "      <td>0</td>\n",
              "      <td>0</td>\n",
              "      <td>0</td>\n",
              "      <td>0</td>\n",
              "      <td>0</td>\n",
              "      <td>0</td>\n",
              "      <td>0</td>\n",
              "      <td>0</td>\n",
              "      <td>0</td>\n",
              "      <td>0</td>\n",
              "      <td>0</td>\n",
              "      <td>0</td>\n",
              "      <td>0</td>\n",
              "      <td>0</td>\n",
              "      <td>0</td>\n",
              "      <td>0</td>\n",
              "      <td>0</td>\n",
              "      <td>...</td>\n",
              "      <td>0</td>\n",
              "      <td>0</td>\n",
              "      <td>0</td>\n",
              "      <td>0</td>\n",
              "      <td>0</td>\n",
              "      <td>0</td>\n",
              "      <td>0</td>\n",
              "      <td>0</td>\n",
              "      <td>0</td>\n",
              "      <td>0</td>\n",
              "      <td>0</td>\n",
              "      <td>0</td>\n",
              "      <td>0</td>\n",
              "      <td>0</td>\n",
              "      <td>0</td>\n",
              "      <td>0</td>\n",
              "      <td>0</td>\n",
              "      <td>0</td>\n",
              "      <td>0</td>\n",
              "      <td>0</td>\n",
              "      <td>0</td>\n",
              "      <td>0</td>\n",
              "      <td>0</td>\n",
              "      <td>0</td>\n",
              "      <td>0</td>\n",
              "      <td>0</td>\n",
              "      <td>0</td>\n",
              "      <td>0</td>\n",
              "      <td>0</td>\n",
              "      <td>0</td>\n",
              "      <td>0</td>\n",
              "      <td>0</td>\n",
              "      <td>0</td>\n",
              "      <td>0</td>\n",
              "      <td>0</td>\n",
              "      <td>0</td>\n",
              "      <td>0</td>\n",
              "      <td>0</td>\n",
              "      <td>0</td>\n",
              "      <td>0</td>\n",
              "    </tr>\n",
              "  </tbody>\n",
              "</table>\n",
              "<p>5 rows × 785 columns</p>\n",
              "</div>\n",
              "      <button class=\"colab-df-convert\" onclick=\"convertToInteractive('df-5cdeb3f8-df8e-4d7f-b236-22e7d12a51fe')\"\n",
              "              title=\"Convert this dataframe to an interactive table.\"\n",
              "              style=\"display:none;\">\n",
              "        \n",
              "  <svg xmlns=\"http://www.w3.org/2000/svg\" height=\"24px\"viewBox=\"0 0 24 24\"\n",
              "       width=\"24px\">\n",
              "    <path d=\"M0 0h24v24H0V0z\" fill=\"none\"/>\n",
              "    <path d=\"M18.56 5.44l.94 2.06.94-2.06 2.06-.94-2.06-.94-.94-2.06-.94 2.06-2.06.94zm-11 1L8.5 8.5l.94-2.06 2.06-.94-2.06-.94L8.5 2.5l-.94 2.06-2.06.94zm10 10l.94 2.06.94-2.06 2.06-.94-2.06-.94-.94-2.06-.94 2.06-2.06.94z\"/><path d=\"M17.41 7.96l-1.37-1.37c-.4-.4-.92-.59-1.43-.59-.52 0-1.04.2-1.43.59L10.3 9.45l-7.72 7.72c-.78.78-.78 2.05 0 2.83L4 21.41c.39.39.9.59 1.41.59.51 0 1.02-.2 1.41-.59l7.78-7.78 2.81-2.81c.8-.78.8-2.07 0-2.86zM5.41 20L4 18.59l7.72-7.72 1.47 1.35L5.41 20z\"/>\n",
              "  </svg>\n",
              "      </button>\n",
              "      \n",
              "  <style>\n",
              "    .colab-df-container {\n",
              "      display:flex;\n",
              "      flex-wrap:wrap;\n",
              "      gap: 12px;\n",
              "    }\n",
              "\n",
              "    .colab-df-convert {\n",
              "      background-color: #E8F0FE;\n",
              "      border: none;\n",
              "      border-radius: 50%;\n",
              "      cursor: pointer;\n",
              "      display: none;\n",
              "      fill: #1967D2;\n",
              "      height: 32px;\n",
              "      padding: 0 0 0 0;\n",
              "      width: 32px;\n",
              "    }\n",
              "\n",
              "    .colab-df-convert:hover {\n",
              "      background-color: #E2EBFA;\n",
              "      box-shadow: 0px 1px 2px rgba(60, 64, 67, 0.3), 0px 1px 3px 1px rgba(60, 64, 67, 0.15);\n",
              "      fill: #174EA6;\n",
              "    }\n",
              "\n",
              "    [theme=dark] .colab-df-convert {\n",
              "      background-color: #3B4455;\n",
              "      fill: #D2E3FC;\n",
              "    }\n",
              "\n",
              "    [theme=dark] .colab-df-convert:hover {\n",
              "      background-color: #434B5C;\n",
              "      box-shadow: 0px 1px 3px 1px rgba(0, 0, 0, 0.15);\n",
              "      filter: drop-shadow(0px 1px 2px rgba(0, 0, 0, 0.3));\n",
              "      fill: #FFFFFF;\n",
              "    }\n",
              "  </style>\n",
              "\n",
              "      <script>\n",
              "        const buttonEl =\n",
              "          document.querySelector('#df-5cdeb3f8-df8e-4d7f-b236-22e7d12a51fe button.colab-df-convert');\n",
              "        buttonEl.style.display =\n",
              "          google.colab.kernel.accessAllowed ? 'block' : 'none';\n",
              "\n",
              "        async function convertToInteractive(key) {\n",
              "          const element = document.querySelector('#df-5cdeb3f8-df8e-4d7f-b236-22e7d12a51fe');\n",
              "          const dataTable =\n",
              "            await google.colab.kernel.invokeFunction('convertToInteractive',\n",
              "                                                     [key], {});\n",
              "          if (!dataTable) return;\n",
              "\n",
              "          const docLinkHtml = 'Like what you see? Visit the ' +\n",
              "            '<a target=\"_blank\" href=https://colab.research.google.com/notebooks/data_table.ipynb>data table notebook</a>'\n",
              "            + ' to learn more about interactive tables.';\n",
              "          element.innerHTML = '';\n",
              "          dataTable['output_type'] = 'display_data';\n",
              "          await google.colab.output.renderOutput(dataTable, element);\n",
              "          const docLink = document.createElement('div');\n",
              "          docLink.innerHTML = docLinkHtml;\n",
              "          element.appendChild(docLink);\n",
              "        }\n",
              "      </script>\n",
              "    </div>\n",
              "  </div>\n",
              "  "
            ],
            "text/plain": [
              "   0  0.1  0.2  0.3  0.4  0.5  ...  0.643  0.644  0.645  0.646  0.647  0.648\n",
              "0  0    0    0    0    0    0  ...      0      0      0      0      0      0\n",
              "1  0    0    0    0    0    0  ...      0      0      0      0      0      0\n",
              "2  0    0    0    0    0    0  ...      0      0      0      0      0      0\n",
              "3  0    0    0    0    0    0  ...      0      0      0      0      0      0\n",
              "4  0    0    0    0    0    0  ...      0      0      0      0      0      0\n",
              "\n",
              "[5 rows x 785 columns]"
            ]
          },
          "metadata": {},
          "execution_count": 609
        }
      ],
      "source": [
        "hr1 = pd.read_csv('/content/a-z.csv')\n",
        "hr1.head()"
      ]
    },
    {
      "cell_type": "code",
      "execution_count": 610,
      "metadata": {
        "colab": {
          "base_uri": "https://localhost:8080/"
        },
        "id": "X7kb7VJrOF61",
        "outputId": "8ce8c81b-3ce3-4e21-d892-51f2978ac7fd"
      },
      "outputs": [
        {
          "output_type": "execute_result",
          "data": {
            "text/plain": [
              "(2790, 785)"
            ]
          },
          "metadata": {},
          "execution_count": 610
        }
      ],
      "source": [
        "hr1.shape"
      ]
    },
    {
      "cell_type": "code",
      "execution_count": 611,
      "metadata": {
        "colab": {
          "base_uri": "https://localhost:8080/"
        },
        "id": "D5e7-DZSOKEM",
        "outputId": "18cc73f8-34b6-4ecc-e5f7-a871a6e37cab"
      },
      "outputs": [
        {
          "output_type": "execute_result",
          "data": {
            "text/plain": [
              "0        int64\n",
              "0.1      int64\n",
              "0.2      int64\n",
              "0.3      int64\n",
              "0.4      int64\n",
              "         ...  \n",
              "0.644    int64\n",
              "0.645    int64\n",
              "0.646    int64\n",
              "0.647    int64\n",
              "0.648    int64\n",
              "Length: 785, dtype: object"
            ]
          },
          "metadata": {},
          "execution_count": 611
        }
      ],
      "source": [
        "hr1.dtypes"
      ]
    },
    {
      "cell_type": "code",
      "execution_count": 612,
      "metadata": {
        "colab": {
          "base_uri": "https://localhost:8080/"
        },
        "id": "PR2-58K_ONVE",
        "outputId": "4a0e802f-3813-48a6-b99d-6f0a09ef443e"
      },
      "outputs": [
        {
          "output_type": "execute_result",
          "data": {
            "text/plain": [
              "<bound method NDFrame.describe of        0  0.1  0.2  0.3  0.4  0.5  ...  0.643  0.644  0.645  0.646  0.647  0.648\n",
              "0      0    0    0    0    0    0  ...      0      0      0      0      0      0\n",
              "1      0    0    0    0    0    0  ...      0      0      0      0      0      0\n",
              "2      0    0    0    0    0    0  ...      0      0      0      0      0      0\n",
              "3      0    0    0    0    0    0  ...      0      0      0      0      0      0\n",
              "4      0    0    0    0    0    0  ...      0      0      0      0      0      0\n",
              "...   ..  ...  ...  ...  ...  ...  ...    ...    ...    ...    ...    ...    ...\n",
              "2785  25    0    0    0    0    0  ...      0      0      0      0      0      0\n",
              "2786  25    0    0    0    0    0  ...      0      0      0      0      0      0\n",
              "2787  25    0    0    0    0    0  ...      0      0      0      0      0      0\n",
              "2788  25    0    0    0    0    0  ...      0      0      0      0      0      0\n",
              "2789  25    0    0    0    0    0  ...      0      0      0      0      0      0\n",
              "\n",
              "[2790 rows x 785 columns]>"
            ]
          },
          "metadata": {},
          "execution_count": 612
        }
      ],
      "source": [
        "hr1.describe"
      ]
    },
    {
      "cell_type": "code",
      "source": [
        "hr1.isnull().sum().head()"
      ],
      "metadata": {
        "colab": {
          "base_uri": "https://localhost:8080/"
        },
        "id": "OLL7zOckcJ-N",
        "outputId": "d2138447-33df-440c-9db0-b6fc77f4dc79"
      },
      "execution_count": 613,
      "outputs": [
        {
          "output_type": "execute_result",
          "data": {
            "text/plain": [
              "0      0\n",
              "0.1    0\n",
              "0.2    0\n",
              "0.3    0\n",
              "0.4    0\n",
              "dtype: int64"
            ]
          },
          "metadata": {},
          "execution_count": 613
        }
      ]
    },
    {
      "cell_type": "markdown",
      "metadata": {
        "id": "ECwZuampOXa7"
      },
      "source": [
        "#Data Preprocessing"
      ]
    },
    {
      "cell_type": "code",
      "execution_count": 614,
      "metadata": {
        "colab": {
          "base_uri": "https://localhost:8080/",
          "height": 299
        },
        "id": "c0fAYkTrOgE_",
        "outputId": "1b12764b-5e93-4901-acd2-a62268bfadfe"
      },
      "outputs": [
        {
          "output_type": "execute_result",
          "data": {
            "text/html": [
              "\n",
              "  <div id=\"df-03878f71-ccc0-497e-a2e6-259a88852d99\">\n",
              "    <div class=\"colab-df-container\">\n",
              "      <div>\n",
              "<style scoped>\n",
              "    .dataframe tbody tr th:only-of-type {\n",
              "        vertical-align: middle;\n",
              "    }\n",
              "\n",
              "    .dataframe tbody tr th {\n",
              "        vertical-align: top;\n",
              "    }\n",
              "\n",
              "    .dataframe thead th {\n",
              "        text-align: right;\n",
              "    }\n",
              "</style>\n",
              "<table border=\"1\" class=\"dataframe\">\n",
              "  <thead>\n",
              "    <tr style=\"text-align: right;\">\n",
              "      <th></th>\n",
              "      <th>labels</th>\n",
              "      <th>0.1</th>\n",
              "      <th>0.2</th>\n",
              "      <th>0.3</th>\n",
              "      <th>0.4</th>\n",
              "      <th>0.5</th>\n",
              "      <th>0.6</th>\n",
              "      <th>0.7</th>\n",
              "      <th>0.8</th>\n",
              "      <th>0.9</th>\n",
              "      <th>0.10</th>\n",
              "      <th>0.11</th>\n",
              "      <th>0.12</th>\n",
              "      <th>0.13</th>\n",
              "      <th>0.14</th>\n",
              "      <th>0.15</th>\n",
              "      <th>0.16</th>\n",
              "      <th>0.17</th>\n",
              "      <th>0.18</th>\n",
              "      <th>0.19</th>\n",
              "      <th>0.20</th>\n",
              "      <th>0.21</th>\n",
              "      <th>0.22</th>\n",
              "      <th>0.23</th>\n",
              "      <th>0.24</th>\n",
              "      <th>0.25</th>\n",
              "      <th>0.26</th>\n",
              "      <th>0.27</th>\n",
              "      <th>0.28</th>\n",
              "      <th>0.29</th>\n",
              "      <th>0.30</th>\n",
              "      <th>0.31</th>\n",
              "      <th>0.32</th>\n",
              "      <th>0.33</th>\n",
              "      <th>0.34</th>\n",
              "      <th>0.35</th>\n",
              "      <th>0.36</th>\n",
              "      <th>0.37</th>\n",
              "      <th>0.38</th>\n",
              "      <th>0.39</th>\n",
              "      <th>...</th>\n",
              "      <th>0.609</th>\n",
              "      <th>0.610</th>\n",
              "      <th>0.611</th>\n",
              "      <th>0.612</th>\n",
              "      <th>0.613</th>\n",
              "      <th>0.614</th>\n",
              "      <th>0.615</th>\n",
              "      <th>0.616</th>\n",
              "      <th>0.617</th>\n",
              "      <th>0.618</th>\n",
              "      <th>0.619</th>\n",
              "      <th>0.620</th>\n",
              "      <th>0.621</th>\n",
              "      <th>0.622</th>\n",
              "      <th>0.623</th>\n",
              "      <th>0.624</th>\n",
              "      <th>0.625</th>\n",
              "      <th>0.626</th>\n",
              "      <th>0.627</th>\n",
              "      <th>0.628</th>\n",
              "      <th>0.629</th>\n",
              "      <th>0.630</th>\n",
              "      <th>0.631</th>\n",
              "      <th>0.632</th>\n",
              "      <th>0.633</th>\n",
              "      <th>0.634</th>\n",
              "      <th>0.635</th>\n",
              "      <th>0.636</th>\n",
              "      <th>0.637</th>\n",
              "      <th>0.638</th>\n",
              "      <th>0.639</th>\n",
              "      <th>0.640</th>\n",
              "      <th>0.641</th>\n",
              "      <th>0.642</th>\n",
              "      <th>0.643</th>\n",
              "      <th>0.644</th>\n",
              "      <th>0.645</th>\n",
              "      <th>0.646</th>\n",
              "      <th>0.647</th>\n",
              "      <th>0.648</th>\n",
              "    </tr>\n",
              "  </thead>\n",
              "  <tbody>\n",
              "    <tr>\n",
              "      <th>0</th>\n",
              "      <td>0</td>\n",
              "      <td>0</td>\n",
              "      <td>0</td>\n",
              "      <td>0</td>\n",
              "      <td>0</td>\n",
              "      <td>0</td>\n",
              "      <td>0</td>\n",
              "      <td>0</td>\n",
              "      <td>0</td>\n",
              "      <td>0</td>\n",
              "      <td>0</td>\n",
              "      <td>0</td>\n",
              "      <td>0</td>\n",
              "      <td>0</td>\n",
              "      <td>0</td>\n",
              "      <td>0</td>\n",
              "      <td>0</td>\n",
              "      <td>0</td>\n",
              "      <td>0</td>\n",
              "      <td>0</td>\n",
              "      <td>0</td>\n",
              "      <td>0</td>\n",
              "      <td>0</td>\n",
              "      <td>0</td>\n",
              "      <td>0</td>\n",
              "      <td>0</td>\n",
              "      <td>0</td>\n",
              "      <td>0</td>\n",
              "      <td>0</td>\n",
              "      <td>0</td>\n",
              "      <td>0</td>\n",
              "      <td>0</td>\n",
              "      <td>0</td>\n",
              "      <td>0</td>\n",
              "      <td>0</td>\n",
              "      <td>0</td>\n",
              "      <td>0</td>\n",
              "      <td>0</td>\n",
              "      <td>0</td>\n",
              "      <td>0</td>\n",
              "      <td>...</td>\n",
              "      <td>0</td>\n",
              "      <td>0</td>\n",
              "      <td>0</td>\n",
              "      <td>0</td>\n",
              "      <td>0</td>\n",
              "      <td>0</td>\n",
              "      <td>0</td>\n",
              "      <td>0</td>\n",
              "      <td>0</td>\n",
              "      <td>0</td>\n",
              "      <td>0</td>\n",
              "      <td>0</td>\n",
              "      <td>0</td>\n",
              "      <td>0</td>\n",
              "      <td>0</td>\n",
              "      <td>0</td>\n",
              "      <td>0</td>\n",
              "      <td>0</td>\n",
              "      <td>0</td>\n",
              "      <td>0</td>\n",
              "      <td>0</td>\n",
              "      <td>0</td>\n",
              "      <td>0</td>\n",
              "      <td>0</td>\n",
              "      <td>0</td>\n",
              "      <td>0</td>\n",
              "      <td>0</td>\n",
              "      <td>0</td>\n",
              "      <td>0</td>\n",
              "      <td>0</td>\n",
              "      <td>0</td>\n",
              "      <td>0</td>\n",
              "      <td>0</td>\n",
              "      <td>0</td>\n",
              "      <td>0</td>\n",
              "      <td>0</td>\n",
              "      <td>0</td>\n",
              "      <td>0</td>\n",
              "      <td>0</td>\n",
              "      <td>0</td>\n",
              "    </tr>\n",
              "    <tr>\n",
              "      <th>1</th>\n",
              "      <td>0</td>\n",
              "      <td>0</td>\n",
              "      <td>0</td>\n",
              "      <td>0</td>\n",
              "      <td>0</td>\n",
              "      <td>0</td>\n",
              "      <td>0</td>\n",
              "      <td>0</td>\n",
              "      <td>0</td>\n",
              "      <td>0</td>\n",
              "      <td>0</td>\n",
              "      <td>0</td>\n",
              "      <td>0</td>\n",
              "      <td>0</td>\n",
              "      <td>0</td>\n",
              "      <td>0</td>\n",
              "      <td>0</td>\n",
              "      <td>0</td>\n",
              "      <td>0</td>\n",
              "      <td>0</td>\n",
              "      <td>0</td>\n",
              "      <td>0</td>\n",
              "      <td>0</td>\n",
              "      <td>0</td>\n",
              "      <td>0</td>\n",
              "      <td>0</td>\n",
              "      <td>0</td>\n",
              "      <td>0</td>\n",
              "      <td>0</td>\n",
              "      <td>0</td>\n",
              "      <td>0</td>\n",
              "      <td>0</td>\n",
              "      <td>0</td>\n",
              "      <td>0</td>\n",
              "      <td>0</td>\n",
              "      <td>0</td>\n",
              "      <td>0</td>\n",
              "      <td>0</td>\n",
              "      <td>0</td>\n",
              "      <td>0</td>\n",
              "      <td>...</td>\n",
              "      <td>0</td>\n",
              "      <td>0</td>\n",
              "      <td>0</td>\n",
              "      <td>0</td>\n",
              "      <td>0</td>\n",
              "      <td>0</td>\n",
              "      <td>0</td>\n",
              "      <td>0</td>\n",
              "      <td>0</td>\n",
              "      <td>0</td>\n",
              "      <td>0</td>\n",
              "      <td>0</td>\n",
              "      <td>0</td>\n",
              "      <td>0</td>\n",
              "      <td>0</td>\n",
              "      <td>0</td>\n",
              "      <td>0</td>\n",
              "      <td>0</td>\n",
              "      <td>0</td>\n",
              "      <td>0</td>\n",
              "      <td>0</td>\n",
              "      <td>0</td>\n",
              "      <td>0</td>\n",
              "      <td>0</td>\n",
              "      <td>0</td>\n",
              "      <td>0</td>\n",
              "      <td>0</td>\n",
              "      <td>0</td>\n",
              "      <td>0</td>\n",
              "      <td>0</td>\n",
              "      <td>0</td>\n",
              "      <td>0</td>\n",
              "      <td>0</td>\n",
              "      <td>0</td>\n",
              "      <td>0</td>\n",
              "      <td>0</td>\n",
              "      <td>0</td>\n",
              "      <td>0</td>\n",
              "      <td>0</td>\n",
              "      <td>0</td>\n",
              "    </tr>\n",
              "    <tr>\n",
              "      <th>2</th>\n",
              "      <td>0</td>\n",
              "      <td>0</td>\n",
              "      <td>0</td>\n",
              "      <td>0</td>\n",
              "      <td>0</td>\n",
              "      <td>0</td>\n",
              "      <td>0</td>\n",
              "      <td>0</td>\n",
              "      <td>0</td>\n",
              "      <td>0</td>\n",
              "      <td>0</td>\n",
              "      <td>0</td>\n",
              "      <td>0</td>\n",
              "      <td>0</td>\n",
              "      <td>0</td>\n",
              "      <td>0</td>\n",
              "      <td>0</td>\n",
              "      <td>0</td>\n",
              "      <td>0</td>\n",
              "      <td>0</td>\n",
              "      <td>0</td>\n",
              "      <td>0</td>\n",
              "      <td>0</td>\n",
              "      <td>0</td>\n",
              "      <td>0</td>\n",
              "      <td>0</td>\n",
              "      <td>0</td>\n",
              "      <td>0</td>\n",
              "      <td>0</td>\n",
              "      <td>0</td>\n",
              "      <td>0</td>\n",
              "      <td>0</td>\n",
              "      <td>0</td>\n",
              "      <td>0</td>\n",
              "      <td>0</td>\n",
              "      <td>0</td>\n",
              "      <td>0</td>\n",
              "      <td>0</td>\n",
              "      <td>0</td>\n",
              "      <td>0</td>\n",
              "      <td>...</td>\n",
              "      <td>0</td>\n",
              "      <td>0</td>\n",
              "      <td>0</td>\n",
              "      <td>0</td>\n",
              "      <td>0</td>\n",
              "      <td>0</td>\n",
              "      <td>0</td>\n",
              "      <td>0</td>\n",
              "      <td>0</td>\n",
              "      <td>0</td>\n",
              "      <td>0</td>\n",
              "      <td>0</td>\n",
              "      <td>0</td>\n",
              "      <td>0</td>\n",
              "      <td>0</td>\n",
              "      <td>0</td>\n",
              "      <td>0</td>\n",
              "      <td>0</td>\n",
              "      <td>0</td>\n",
              "      <td>0</td>\n",
              "      <td>0</td>\n",
              "      <td>0</td>\n",
              "      <td>0</td>\n",
              "      <td>0</td>\n",
              "      <td>0</td>\n",
              "      <td>0</td>\n",
              "      <td>0</td>\n",
              "      <td>0</td>\n",
              "      <td>0</td>\n",
              "      <td>0</td>\n",
              "      <td>0</td>\n",
              "      <td>0</td>\n",
              "      <td>0</td>\n",
              "      <td>0</td>\n",
              "      <td>0</td>\n",
              "      <td>0</td>\n",
              "      <td>0</td>\n",
              "      <td>0</td>\n",
              "      <td>0</td>\n",
              "      <td>0</td>\n",
              "    </tr>\n",
              "    <tr>\n",
              "      <th>3</th>\n",
              "      <td>0</td>\n",
              "      <td>0</td>\n",
              "      <td>0</td>\n",
              "      <td>0</td>\n",
              "      <td>0</td>\n",
              "      <td>0</td>\n",
              "      <td>0</td>\n",
              "      <td>0</td>\n",
              "      <td>0</td>\n",
              "      <td>0</td>\n",
              "      <td>0</td>\n",
              "      <td>0</td>\n",
              "      <td>0</td>\n",
              "      <td>0</td>\n",
              "      <td>0</td>\n",
              "      <td>0</td>\n",
              "      <td>0</td>\n",
              "      <td>0</td>\n",
              "      <td>0</td>\n",
              "      <td>0</td>\n",
              "      <td>0</td>\n",
              "      <td>0</td>\n",
              "      <td>0</td>\n",
              "      <td>0</td>\n",
              "      <td>0</td>\n",
              "      <td>0</td>\n",
              "      <td>0</td>\n",
              "      <td>0</td>\n",
              "      <td>0</td>\n",
              "      <td>0</td>\n",
              "      <td>0</td>\n",
              "      <td>0</td>\n",
              "      <td>0</td>\n",
              "      <td>0</td>\n",
              "      <td>0</td>\n",
              "      <td>0</td>\n",
              "      <td>0</td>\n",
              "      <td>0</td>\n",
              "      <td>0</td>\n",
              "      <td>0</td>\n",
              "      <td>...</td>\n",
              "      <td>0</td>\n",
              "      <td>0</td>\n",
              "      <td>0</td>\n",
              "      <td>0</td>\n",
              "      <td>0</td>\n",
              "      <td>0</td>\n",
              "      <td>0</td>\n",
              "      <td>0</td>\n",
              "      <td>0</td>\n",
              "      <td>0</td>\n",
              "      <td>0</td>\n",
              "      <td>0</td>\n",
              "      <td>0</td>\n",
              "      <td>0</td>\n",
              "      <td>0</td>\n",
              "      <td>0</td>\n",
              "      <td>0</td>\n",
              "      <td>0</td>\n",
              "      <td>0</td>\n",
              "      <td>0</td>\n",
              "      <td>0</td>\n",
              "      <td>0</td>\n",
              "      <td>0</td>\n",
              "      <td>0</td>\n",
              "      <td>0</td>\n",
              "      <td>0</td>\n",
              "      <td>0</td>\n",
              "      <td>0</td>\n",
              "      <td>0</td>\n",
              "      <td>0</td>\n",
              "      <td>0</td>\n",
              "      <td>0</td>\n",
              "      <td>0</td>\n",
              "      <td>0</td>\n",
              "      <td>0</td>\n",
              "      <td>0</td>\n",
              "      <td>0</td>\n",
              "      <td>0</td>\n",
              "      <td>0</td>\n",
              "      <td>0</td>\n",
              "    </tr>\n",
              "    <tr>\n",
              "      <th>4</th>\n",
              "      <td>0</td>\n",
              "      <td>0</td>\n",
              "      <td>0</td>\n",
              "      <td>0</td>\n",
              "      <td>0</td>\n",
              "      <td>0</td>\n",
              "      <td>0</td>\n",
              "      <td>0</td>\n",
              "      <td>0</td>\n",
              "      <td>0</td>\n",
              "      <td>0</td>\n",
              "      <td>0</td>\n",
              "      <td>0</td>\n",
              "      <td>0</td>\n",
              "      <td>0</td>\n",
              "      <td>0</td>\n",
              "      <td>0</td>\n",
              "      <td>0</td>\n",
              "      <td>0</td>\n",
              "      <td>0</td>\n",
              "      <td>0</td>\n",
              "      <td>0</td>\n",
              "      <td>0</td>\n",
              "      <td>0</td>\n",
              "      <td>0</td>\n",
              "      <td>0</td>\n",
              "      <td>0</td>\n",
              "      <td>0</td>\n",
              "      <td>0</td>\n",
              "      <td>0</td>\n",
              "      <td>0</td>\n",
              "      <td>0</td>\n",
              "      <td>0</td>\n",
              "      <td>0</td>\n",
              "      <td>0</td>\n",
              "      <td>0</td>\n",
              "      <td>0</td>\n",
              "      <td>0</td>\n",
              "      <td>0</td>\n",
              "      <td>0</td>\n",
              "      <td>...</td>\n",
              "      <td>0</td>\n",
              "      <td>0</td>\n",
              "      <td>0</td>\n",
              "      <td>0</td>\n",
              "      <td>0</td>\n",
              "      <td>0</td>\n",
              "      <td>0</td>\n",
              "      <td>0</td>\n",
              "      <td>0</td>\n",
              "      <td>0</td>\n",
              "      <td>0</td>\n",
              "      <td>0</td>\n",
              "      <td>0</td>\n",
              "      <td>0</td>\n",
              "      <td>0</td>\n",
              "      <td>0</td>\n",
              "      <td>0</td>\n",
              "      <td>0</td>\n",
              "      <td>0</td>\n",
              "      <td>0</td>\n",
              "      <td>0</td>\n",
              "      <td>0</td>\n",
              "      <td>0</td>\n",
              "      <td>0</td>\n",
              "      <td>0</td>\n",
              "      <td>0</td>\n",
              "      <td>0</td>\n",
              "      <td>0</td>\n",
              "      <td>0</td>\n",
              "      <td>0</td>\n",
              "      <td>0</td>\n",
              "      <td>0</td>\n",
              "      <td>0</td>\n",
              "      <td>0</td>\n",
              "      <td>0</td>\n",
              "      <td>0</td>\n",
              "      <td>0</td>\n",
              "      <td>0</td>\n",
              "      <td>0</td>\n",
              "      <td>0</td>\n",
              "    </tr>\n",
              "  </tbody>\n",
              "</table>\n",
              "<p>5 rows × 785 columns</p>\n",
              "</div>\n",
              "      <button class=\"colab-df-convert\" onclick=\"convertToInteractive('df-03878f71-ccc0-497e-a2e6-259a88852d99')\"\n",
              "              title=\"Convert this dataframe to an interactive table.\"\n",
              "              style=\"display:none;\">\n",
              "        \n",
              "  <svg xmlns=\"http://www.w3.org/2000/svg\" height=\"24px\"viewBox=\"0 0 24 24\"\n",
              "       width=\"24px\">\n",
              "    <path d=\"M0 0h24v24H0V0z\" fill=\"none\"/>\n",
              "    <path d=\"M18.56 5.44l.94 2.06.94-2.06 2.06-.94-2.06-.94-.94-2.06-.94 2.06-2.06.94zm-11 1L8.5 8.5l.94-2.06 2.06-.94-2.06-.94L8.5 2.5l-.94 2.06-2.06.94zm10 10l.94 2.06.94-2.06 2.06-.94-2.06-.94-.94-2.06-.94 2.06-2.06.94z\"/><path d=\"M17.41 7.96l-1.37-1.37c-.4-.4-.92-.59-1.43-.59-.52 0-1.04.2-1.43.59L10.3 9.45l-7.72 7.72c-.78.78-.78 2.05 0 2.83L4 21.41c.39.39.9.59 1.41.59.51 0 1.02-.2 1.41-.59l7.78-7.78 2.81-2.81c.8-.78.8-2.07 0-2.86zM5.41 20L4 18.59l7.72-7.72 1.47 1.35L5.41 20z\"/>\n",
              "  </svg>\n",
              "      </button>\n",
              "      \n",
              "  <style>\n",
              "    .colab-df-container {\n",
              "      display:flex;\n",
              "      flex-wrap:wrap;\n",
              "      gap: 12px;\n",
              "    }\n",
              "\n",
              "    .colab-df-convert {\n",
              "      background-color: #E8F0FE;\n",
              "      border: none;\n",
              "      border-radius: 50%;\n",
              "      cursor: pointer;\n",
              "      display: none;\n",
              "      fill: #1967D2;\n",
              "      height: 32px;\n",
              "      padding: 0 0 0 0;\n",
              "      width: 32px;\n",
              "    }\n",
              "\n",
              "    .colab-df-convert:hover {\n",
              "      background-color: #E2EBFA;\n",
              "      box-shadow: 0px 1px 2px rgba(60, 64, 67, 0.3), 0px 1px 3px 1px rgba(60, 64, 67, 0.15);\n",
              "      fill: #174EA6;\n",
              "    }\n",
              "\n",
              "    [theme=dark] .colab-df-convert {\n",
              "      background-color: #3B4455;\n",
              "      fill: #D2E3FC;\n",
              "    }\n",
              "\n",
              "    [theme=dark] .colab-df-convert:hover {\n",
              "      background-color: #434B5C;\n",
              "      box-shadow: 0px 1px 3px 1px rgba(0, 0, 0, 0.15);\n",
              "      filter: drop-shadow(0px 1px 2px rgba(0, 0, 0, 0.3));\n",
              "      fill: #FFFFFF;\n",
              "    }\n",
              "  </style>\n",
              "\n",
              "      <script>\n",
              "        const buttonEl =\n",
              "          document.querySelector('#df-03878f71-ccc0-497e-a2e6-259a88852d99 button.colab-df-convert');\n",
              "        buttonEl.style.display =\n",
              "          google.colab.kernel.accessAllowed ? 'block' : 'none';\n",
              "\n",
              "        async function convertToInteractive(key) {\n",
              "          const element = document.querySelector('#df-03878f71-ccc0-497e-a2e6-259a88852d99');\n",
              "          const dataTable =\n",
              "            await google.colab.kernel.invokeFunction('convertToInteractive',\n",
              "                                                     [key], {});\n",
              "          if (!dataTable) return;\n",
              "\n",
              "          const docLinkHtml = 'Like what you see? Visit the ' +\n",
              "            '<a target=\"_blank\" href=https://colab.research.google.com/notebooks/data_table.ipynb>data table notebook</a>'\n",
              "            + ' to learn more about interactive tables.';\n",
              "          element.innerHTML = '';\n",
              "          dataTable['output_type'] = 'display_data';\n",
              "          await google.colab.output.renderOutput(dataTable, element);\n",
              "          const docLink = document.createElement('div');\n",
              "          docLink.innerHTML = docLinkHtml;\n",
              "          element.appendChild(docLink);\n",
              "        }\n",
              "      </script>\n",
              "    </div>\n",
              "  </div>\n",
              "  "
            ],
            "text/plain": [
              "   labels  0.1  0.2  0.3  0.4  0.5  ...  0.643  0.644  0.645  0.646  0.647  0.648\n",
              "0       0    0    0    0    0    0  ...      0      0      0      0      0      0\n",
              "1       0    0    0    0    0    0  ...      0      0      0      0      0      0\n",
              "2       0    0    0    0    0    0  ...      0      0      0      0      0      0\n",
              "3       0    0    0    0    0    0  ...      0      0      0      0      0      0\n",
              "4       0    0    0    0    0    0  ...      0      0      0      0      0      0\n",
              "\n",
              "[5 rows x 785 columns]"
            ]
          },
          "metadata": {},
          "execution_count": 614
        }
      ],
      "source": [
        "hr1 = hr1.rename(columns={'0':'labels'})\n",
        "hr1.head()"
      ]
    },
    {
      "cell_type": "code",
      "execution_count": 615,
      "metadata": {
        "colab": {
          "base_uri": "https://localhost:8080/",
          "height": 299
        },
        "id": "pVGOMijmOuSh",
        "outputId": "bd7fa0df-caab-4d7d-d885-a2dce1d17dcb"
      },
      "outputs": [
        {
          "output_type": "execute_result",
          "data": {
            "text/html": [
              "\n",
              "  <div id=\"df-ee82ea9e-9bc6-49c0-827f-8fe41ebd1768\">\n",
              "    <div class=\"colab-df-container\">\n",
              "      <div>\n",
              "<style scoped>\n",
              "    .dataframe tbody tr th:only-of-type {\n",
              "        vertical-align: middle;\n",
              "    }\n",
              "\n",
              "    .dataframe tbody tr th {\n",
              "        vertical-align: top;\n",
              "    }\n",
              "\n",
              "    .dataframe thead th {\n",
              "        text-align: right;\n",
              "    }\n",
              "</style>\n",
              "<table border=\"1\" class=\"dataframe\">\n",
              "  <thead>\n",
              "    <tr style=\"text-align: right;\">\n",
              "      <th></th>\n",
              "      <th>0.1</th>\n",
              "      <th>0.2</th>\n",
              "      <th>0.3</th>\n",
              "      <th>0.4</th>\n",
              "      <th>0.5</th>\n",
              "      <th>0.6</th>\n",
              "      <th>0.7</th>\n",
              "      <th>0.8</th>\n",
              "      <th>0.9</th>\n",
              "      <th>0.10</th>\n",
              "      <th>0.11</th>\n",
              "      <th>0.12</th>\n",
              "      <th>0.13</th>\n",
              "      <th>0.14</th>\n",
              "      <th>0.15</th>\n",
              "      <th>0.16</th>\n",
              "      <th>0.17</th>\n",
              "      <th>0.18</th>\n",
              "      <th>0.19</th>\n",
              "      <th>0.20</th>\n",
              "      <th>0.21</th>\n",
              "      <th>0.22</th>\n",
              "      <th>0.23</th>\n",
              "      <th>0.24</th>\n",
              "      <th>0.25</th>\n",
              "      <th>0.26</th>\n",
              "      <th>0.27</th>\n",
              "      <th>0.28</th>\n",
              "      <th>0.29</th>\n",
              "      <th>0.30</th>\n",
              "      <th>0.31</th>\n",
              "      <th>0.32</th>\n",
              "      <th>0.33</th>\n",
              "      <th>0.34</th>\n",
              "      <th>0.35</th>\n",
              "      <th>0.36</th>\n",
              "      <th>0.37</th>\n",
              "      <th>0.38</th>\n",
              "      <th>0.39</th>\n",
              "      <th>0.40</th>\n",
              "      <th>...</th>\n",
              "      <th>0.609</th>\n",
              "      <th>0.610</th>\n",
              "      <th>0.611</th>\n",
              "      <th>0.612</th>\n",
              "      <th>0.613</th>\n",
              "      <th>0.614</th>\n",
              "      <th>0.615</th>\n",
              "      <th>0.616</th>\n",
              "      <th>0.617</th>\n",
              "      <th>0.618</th>\n",
              "      <th>0.619</th>\n",
              "      <th>0.620</th>\n",
              "      <th>0.621</th>\n",
              "      <th>0.622</th>\n",
              "      <th>0.623</th>\n",
              "      <th>0.624</th>\n",
              "      <th>0.625</th>\n",
              "      <th>0.626</th>\n",
              "      <th>0.627</th>\n",
              "      <th>0.628</th>\n",
              "      <th>0.629</th>\n",
              "      <th>0.630</th>\n",
              "      <th>0.631</th>\n",
              "      <th>0.632</th>\n",
              "      <th>0.633</th>\n",
              "      <th>0.634</th>\n",
              "      <th>0.635</th>\n",
              "      <th>0.636</th>\n",
              "      <th>0.637</th>\n",
              "      <th>0.638</th>\n",
              "      <th>0.639</th>\n",
              "      <th>0.640</th>\n",
              "      <th>0.641</th>\n",
              "      <th>0.642</th>\n",
              "      <th>0.643</th>\n",
              "      <th>0.644</th>\n",
              "      <th>0.645</th>\n",
              "      <th>0.646</th>\n",
              "      <th>0.647</th>\n",
              "      <th>0.648</th>\n",
              "    </tr>\n",
              "  </thead>\n",
              "  <tbody>\n",
              "    <tr>\n",
              "      <th>0</th>\n",
              "      <td>0</td>\n",
              "      <td>0</td>\n",
              "      <td>0</td>\n",
              "      <td>0</td>\n",
              "      <td>0</td>\n",
              "      <td>0</td>\n",
              "      <td>0</td>\n",
              "      <td>0</td>\n",
              "      <td>0</td>\n",
              "      <td>0</td>\n",
              "      <td>0</td>\n",
              "      <td>0</td>\n",
              "      <td>0</td>\n",
              "      <td>0</td>\n",
              "      <td>0</td>\n",
              "      <td>0</td>\n",
              "      <td>0</td>\n",
              "      <td>0</td>\n",
              "      <td>0</td>\n",
              "      <td>0</td>\n",
              "      <td>0</td>\n",
              "      <td>0</td>\n",
              "      <td>0</td>\n",
              "      <td>0</td>\n",
              "      <td>0</td>\n",
              "      <td>0</td>\n",
              "      <td>0</td>\n",
              "      <td>0</td>\n",
              "      <td>0</td>\n",
              "      <td>0</td>\n",
              "      <td>0</td>\n",
              "      <td>0</td>\n",
              "      <td>0</td>\n",
              "      <td>0</td>\n",
              "      <td>0</td>\n",
              "      <td>0</td>\n",
              "      <td>0</td>\n",
              "      <td>0</td>\n",
              "      <td>0</td>\n",
              "      <td>0</td>\n",
              "      <td>...</td>\n",
              "      <td>0</td>\n",
              "      <td>0</td>\n",
              "      <td>0</td>\n",
              "      <td>0</td>\n",
              "      <td>0</td>\n",
              "      <td>0</td>\n",
              "      <td>0</td>\n",
              "      <td>0</td>\n",
              "      <td>0</td>\n",
              "      <td>0</td>\n",
              "      <td>0</td>\n",
              "      <td>0</td>\n",
              "      <td>0</td>\n",
              "      <td>0</td>\n",
              "      <td>0</td>\n",
              "      <td>0</td>\n",
              "      <td>0</td>\n",
              "      <td>0</td>\n",
              "      <td>0</td>\n",
              "      <td>0</td>\n",
              "      <td>0</td>\n",
              "      <td>0</td>\n",
              "      <td>0</td>\n",
              "      <td>0</td>\n",
              "      <td>0</td>\n",
              "      <td>0</td>\n",
              "      <td>0</td>\n",
              "      <td>0</td>\n",
              "      <td>0</td>\n",
              "      <td>0</td>\n",
              "      <td>0</td>\n",
              "      <td>0</td>\n",
              "      <td>0</td>\n",
              "      <td>0</td>\n",
              "      <td>0</td>\n",
              "      <td>0</td>\n",
              "      <td>0</td>\n",
              "      <td>0</td>\n",
              "      <td>0</td>\n",
              "      <td>0</td>\n",
              "    </tr>\n",
              "    <tr>\n",
              "      <th>1</th>\n",
              "      <td>0</td>\n",
              "      <td>0</td>\n",
              "      <td>0</td>\n",
              "      <td>0</td>\n",
              "      <td>0</td>\n",
              "      <td>0</td>\n",
              "      <td>0</td>\n",
              "      <td>0</td>\n",
              "      <td>0</td>\n",
              "      <td>0</td>\n",
              "      <td>0</td>\n",
              "      <td>0</td>\n",
              "      <td>0</td>\n",
              "      <td>0</td>\n",
              "      <td>0</td>\n",
              "      <td>0</td>\n",
              "      <td>0</td>\n",
              "      <td>0</td>\n",
              "      <td>0</td>\n",
              "      <td>0</td>\n",
              "      <td>0</td>\n",
              "      <td>0</td>\n",
              "      <td>0</td>\n",
              "      <td>0</td>\n",
              "      <td>0</td>\n",
              "      <td>0</td>\n",
              "      <td>0</td>\n",
              "      <td>0</td>\n",
              "      <td>0</td>\n",
              "      <td>0</td>\n",
              "      <td>0</td>\n",
              "      <td>0</td>\n",
              "      <td>0</td>\n",
              "      <td>0</td>\n",
              "      <td>0</td>\n",
              "      <td>0</td>\n",
              "      <td>0</td>\n",
              "      <td>0</td>\n",
              "      <td>0</td>\n",
              "      <td>0</td>\n",
              "      <td>...</td>\n",
              "      <td>0</td>\n",
              "      <td>0</td>\n",
              "      <td>0</td>\n",
              "      <td>0</td>\n",
              "      <td>0</td>\n",
              "      <td>0</td>\n",
              "      <td>0</td>\n",
              "      <td>0</td>\n",
              "      <td>0</td>\n",
              "      <td>0</td>\n",
              "      <td>0</td>\n",
              "      <td>0</td>\n",
              "      <td>0</td>\n",
              "      <td>0</td>\n",
              "      <td>0</td>\n",
              "      <td>0</td>\n",
              "      <td>0</td>\n",
              "      <td>0</td>\n",
              "      <td>0</td>\n",
              "      <td>0</td>\n",
              "      <td>0</td>\n",
              "      <td>0</td>\n",
              "      <td>0</td>\n",
              "      <td>0</td>\n",
              "      <td>0</td>\n",
              "      <td>0</td>\n",
              "      <td>0</td>\n",
              "      <td>0</td>\n",
              "      <td>0</td>\n",
              "      <td>0</td>\n",
              "      <td>0</td>\n",
              "      <td>0</td>\n",
              "      <td>0</td>\n",
              "      <td>0</td>\n",
              "      <td>0</td>\n",
              "      <td>0</td>\n",
              "      <td>0</td>\n",
              "      <td>0</td>\n",
              "      <td>0</td>\n",
              "      <td>0</td>\n",
              "    </tr>\n",
              "    <tr>\n",
              "      <th>2</th>\n",
              "      <td>0</td>\n",
              "      <td>0</td>\n",
              "      <td>0</td>\n",
              "      <td>0</td>\n",
              "      <td>0</td>\n",
              "      <td>0</td>\n",
              "      <td>0</td>\n",
              "      <td>0</td>\n",
              "      <td>0</td>\n",
              "      <td>0</td>\n",
              "      <td>0</td>\n",
              "      <td>0</td>\n",
              "      <td>0</td>\n",
              "      <td>0</td>\n",
              "      <td>0</td>\n",
              "      <td>0</td>\n",
              "      <td>0</td>\n",
              "      <td>0</td>\n",
              "      <td>0</td>\n",
              "      <td>0</td>\n",
              "      <td>0</td>\n",
              "      <td>0</td>\n",
              "      <td>0</td>\n",
              "      <td>0</td>\n",
              "      <td>0</td>\n",
              "      <td>0</td>\n",
              "      <td>0</td>\n",
              "      <td>0</td>\n",
              "      <td>0</td>\n",
              "      <td>0</td>\n",
              "      <td>0</td>\n",
              "      <td>0</td>\n",
              "      <td>0</td>\n",
              "      <td>0</td>\n",
              "      <td>0</td>\n",
              "      <td>0</td>\n",
              "      <td>0</td>\n",
              "      <td>0</td>\n",
              "      <td>0</td>\n",
              "      <td>0</td>\n",
              "      <td>...</td>\n",
              "      <td>0</td>\n",
              "      <td>0</td>\n",
              "      <td>0</td>\n",
              "      <td>0</td>\n",
              "      <td>0</td>\n",
              "      <td>0</td>\n",
              "      <td>0</td>\n",
              "      <td>0</td>\n",
              "      <td>0</td>\n",
              "      <td>0</td>\n",
              "      <td>0</td>\n",
              "      <td>0</td>\n",
              "      <td>0</td>\n",
              "      <td>0</td>\n",
              "      <td>0</td>\n",
              "      <td>0</td>\n",
              "      <td>0</td>\n",
              "      <td>0</td>\n",
              "      <td>0</td>\n",
              "      <td>0</td>\n",
              "      <td>0</td>\n",
              "      <td>0</td>\n",
              "      <td>0</td>\n",
              "      <td>0</td>\n",
              "      <td>0</td>\n",
              "      <td>0</td>\n",
              "      <td>0</td>\n",
              "      <td>0</td>\n",
              "      <td>0</td>\n",
              "      <td>0</td>\n",
              "      <td>0</td>\n",
              "      <td>0</td>\n",
              "      <td>0</td>\n",
              "      <td>0</td>\n",
              "      <td>0</td>\n",
              "      <td>0</td>\n",
              "      <td>0</td>\n",
              "      <td>0</td>\n",
              "      <td>0</td>\n",
              "      <td>0</td>\n",
              "    </tr>\n",
              "    <tr>\n",
              "      <th>3</th>\n",
              "      <td>0</td>\n",
              "      <td>0</td>\n",
              "      <td>0</td>\n",
              "      <td>0</td>\n",
              "      <td>0</td>\n",
              "      <td>0</td>\n",
              "      <td>0</td>\n",
              "      <td>0</td>\n",
              "      <td>0</td>\n",
              "      <td>0</td>\n",
              "      <td>0</td>\n",
              "      <td>0</td>\n",
              "      <td>0</td>\n",
              "      <td>0</td>\n",
              "      <td>0</td>\n",
              "      <td>0</td>\n",
              "      <td>0</td>\n",
              "      <td>0</td>\n",
              "      <td>0</td>\n",
              "      <td>0</td>\n",
              "      <td>0</td>\n",
              "      <td>0</td>\n",
              "      <td>0</td>\n",
              "      <td>0</td>\n",
              "      <td>0</td>\n",
              "      <td>0</td>\n",
              "      <td>0</td>\n",
              "      <td>0</td>\n",
              "      <td>0</td>\n",
              "      <td>0</td>\n",
              "      <td>0</td>\n",
              "      <td>0</td>\n",
              "      <td>0</td>\n",
              "      <td>0</td>\n",
              "      <td>0</td>\n",
              "      <td>0</td>\n",
              "      <td>0</td>\n",
              "      <td>0</td>\n",
              "      <td>0</td>\n",
              "      <td>0</td>\n",
              "      <td>...</td>\n",
              "      <td>0</td>\n",
              "      <td>0</td>\n",
              "      <td>0</td>\n",
              "      <td>0</td>\n",
              "      <td>0</td>\n",
              "      <td>0</td>\n",
              "      <td>0</td>\n",
              "      <td>0</td>\n",
              "      <td>0</td>\n",
              "      <td>0</td>\n",
              "      <td>0</td>\n",
              "      <td>0</td>\n",
              "      <td>0</td>\n",
              "      <td>0</td>\n",
              "      <td>0</td>\n",
              "      <td>0</td>\n",
              "      <td>0</td>\n",
              "      <td>0</td>\n",
              "      <td>0</td>\n",
              "      <td>0</td>\n",
              "      <td>0</td>\n",
              "      <td>0</td>\n",
              "      <td>0</td>\n",
              "      <td>0</td>\n",
              "      <td>0</td>\n",
              "      <td>0</td>\n",
              "      <td>0</td>\n",
              "      <td>0</td>\n",
              "      <td>0</td>\n",
              "      <td>0</td>\n",
              "      <td>0</td>\n",
              "      <td>0</td>\n",
              "      <td>0</td>\n",
              "      <td>0</td>\n",
              "      <td>0</td>\n",
              "      <td>0</td>\n",
              "      <td>0</td>\n",
              "      <td>0</td>\n",
              "      <td>0</td>\n",
              "      <td>0</td>\n",
              "    </tr>\n",
              "    <tr>\n",
              "      <th>4</th>\n",
              "      <td>0</td>\n",
              "      <td>0</td>\n",
              "      <td>0</td>\n",
              "      <td>0</td>\n",
              "      <td>0</td>\n",
              "      <td>0</td>\n",
              "      <td>0</td>\n",
              "      <td>0</td>\n",
              "      <td>0</td>\n",
              "      <td>0</td>\n",
              "      <td>0</td>\n",
              "      <td>0</td>\n",
              "      <td>0</td>\n",
              "      <td>0</td>\n",
              "      <td>0</td>\n",
              "      <td>0</td>\n",
              "      <td>0</td>\n",
              "      <td>0</td>\n",
              "      <td>0</td>\n",
              "      <td>0</td>\n",
              "      <td>0</td>\n",
              "      <td>0</td>\n",
              "      <td>0</td>\n",
              "      <td>0</td>\n",
              "      <td>0</td>\n",
              "      <td>0</td>\n",
              "      <td>0</td>\n",
              "      <td>0</td>\n",
              "      <td>0</td>\n",
              "      <td>0</td>\n",
              "      <td>0</td>\n",
              "      <td>0</td>\n",
              "      <td>0</td>\n",
              "      <td>0</td>\n",
              "      <td>0</td>\n",
              "      <td>0</td>\n",
              "      <td>0</td>\n",
              "      <td>0</td>\n",
              "      <td>0</td>\n",
              "      <td>0</td>\n",
              "      <td>...</td>\n",
              "      <td>0</td>\n",
              "      <td>0</td>\n",
              "      <td>0</td>\n",
              "      <td>0</td>\n",
              "      <td>0</td>\n",
              "      <td>0</td>\n",
              "      <td>0</td>\n",
              "      <td>0</td>\n",
              "      <td>0</td>\n",
              "      <td>0</td>\n",
              "      <td>0</td>\n",
              "      <td>0</td>\n",
              "      <td>0</td>\n",
              "      <td>0</td>\n",
              "      <td>0</td>\n",
              "      <td>0</td>\n",
              "      <td>0</td>\n",
              "      <td>0</td>\n",
              "      <td>0</td>\n",
              "      <td>0</td>\n",
              "      <td>0</td>\n",
              "      <td>0</td>\n",
              "      <td>0</td>\n",
              "      <td>0</td>\n",
              "      <td>0</td>\n",
              "      <td>0</td>\n",
              "      <td>0</td>\n",
              "      <td>0</td>\n",
              "      <td>0</td>\n",
              "      <td>0</td>\n",
              "      <td>0</td>\n",
              "      <td>0</td>\n",
              "      <td>0</td>\n",
              "      <td>0</td>\n",
              "      <td>0</td>\n",
              "      <td>0</td>\n",
              "      <td>0</td>\n",
              "      <td>0</td>\n",
              "      <td>0</td>\n",
              "      <td>0</td>\n",
              "    </tr>\n",
              "  </tbody>\n",
              "</table>\n",
              "<p>5 rows × 784 columns</p>\n",
              "</div>\n",
              "      <button class=\"colab-df-convert\" onclick=\"convertToInteractive('df-ee82ea9e-9bc6-49c0-827f-8fe41ebd1768')\"\n",
              "              title=\"Convert this dataframe to an interactive table.\"\n",
              "              style=\"display:none;\">\n",
              "        \n",
              "  <svg xmlns=\"http://www.w3.org/2000/svg\" height=\"24px\"viewBox=\"0 0 24 24\"\n",
              "       width=\"24px\">\n",
              "    <path d=\"M0 0h24v24H0V0z\" fill=\"none\"/>\n",
              "    <path d=\"M18.56 5.44l.94 2.06.94-2.06 2.06-.94-2.06-.94-.94-2.06-.94 2.06-2.06.94zm-11 1L8.5 8.5l.94-2.06 2.06-.94-2.06-.94L8.5 2.5l-.94 2.06-2.06.94zm10 10l.94 2.06.94-2.06 2.06-.94-2.06-.94-.94-2.06-.94 2.06-2.06.94z\"/><path d=\"M17.41 7.96l-1.37-1.37c-.4-.4-.92-.59-1.43-.59-.52 0-1.04.2-1.43.59L10.3 9.45l-7.72 7.72c-.78.78-.78 2.05 0 2.83L4 21.41c.39.39.9.59 1.41.59.51 0 1.02-.2 1.41-.59l7.78-7.78 2.81-2.81c.8-.78.8-2.07 0-2.86zM5.41 20L4 18.59l7.72-7.72 1.47 1.35L5.41 20z\"/>\n",
              "  </svg>\n",
              "      </button>\n",
              "      \n",
              "  <style>\n",
              "    .colab-df-container {\n",
              "      display:flex;\n",
              "      flex-wrap:wrap;\n",
              "      gap: 12px;\n",
              "    }\n",
              "\n",
              "    .colab-df-convert {\n",
              "      background-color: #E8F0FE;\n",
              "      border: none;\n",
              "      border-radius: 50%;\n",
              "      cursor: pointer;\n",
              "      display: none;\n",
              "      fill: #1967D2;\n",
              "      height: 32px;\n",
              "      padding: 0 0 0 0;\n",
              "      width: 32px;\n",
              "    }\n",
              "\n",
              "    .colab-df-convert:hover {\n",
              "      background-color: #E2EBFA;\n",
              "      box-shadow: 0px 1px 2px rgba(60, 64, 67, 0.3), 0px 1px 3px 1px rgba(60, 64, 67, 0.15);\n",
              "      fill: #174EA6;\n",
              "    }\n",
              "\n",
              "    [theme=dark] .colab-df-convert {\n",
              "      background-color: #3B4455;\n",
              "      fill: #D2E3FC;\n",
              "    }\n",
              "\n",
              "    [theme=dark] .colab-df-convert:hover {\n",
              "      background-color: #434B5C;\n",
              "      box-shadow: 0px 1px 3px 1px rgba(0, 0, 0, 0.15);\n",
              "      filter: drop-shadow(0px 1px 2px rgba(0, 0, 0, 0.3));\n",
              "      fill: #FFFFFF;\n",
              "    }\n",
              "  </style>\n",
              "\n",
              "      <script>\n",
              "        const buttonEl =\n",
              "          document.querySelector('#df-ee82ea9e-9bc6-49c0-827f-8fe41ebd1768 button.colab-df-convert');\n",
              "        buttonEl.style.display =\n",
              "          google.colab.kernel.accessAllowed ? 'block' : 'none';\n",
              "\n",
              "        async function convertToInteractive(key) {\n",
              "          const element = document.querySelector('#df-ee82ea9e-9bc6-49c0-827f-8fe41ebd1768');\n",
              "          const dataTable =\n",
              "            await google.colab.kernel.invokeFunction('convertToInteractive',\n",
              "                                                     [key], {});\n",
              "          if (!dataTable) return;\n",
              "\n",
              "          const docLinkHtml = 'Like what you see? Visit the ' +\n",
              "            '<a target=\"_blank\" href=https://colab.research.google.com/notebooks/data_table.ipynb>data table notebook</a>'\n",
              "            + ' to learn more about interactive tables.';\n",
              "          element.innerHTML = '';\n",
              "          dataTable['output_type'] = 'display_data';\n",
              "          await google.colab.output.renderOutput(dataTable, element);\n",
              "          const docLink = document.createElement('div');\n",
              "          docLink.innerHTML = docLinkHtml;\n",
              "          element.appendChild(docLink);\n",
              "        }\n",
              "      </script>\n",
              "    </div>\n",
              "  </div>\n",
              "  "
            ],
            "text/plain": [
              "   0.1  0.2  0.3  0.4  0.5  0.6  ...  0.643  0.644  0.645  0.646  0.647  0.648\n",
              "0    0    0    0    0    0    0  ...      0      0      0      0      0      0\n",
              "1    0    0    0    0    0    0  ...      0      0      0      0      0      0\n",
              "2    0    0    0    0    0    0  ...      0      0      0      0      0      0\n",
              "3    0    0    0    0    0    0  ...      0      0      0      0      0      0\n",
              "4    0    0    0    0    0    0  ...      0      0      0      0      0      0\n",
              "\n",
              "[5 rows x 784 columns]"
            ]
          },
          "metadata": {},
          "execution_count": 615
        }
      ],
      "source": [
        "x = hr1.drop(['labels'],axis=1)\n",
        "x.head()"
      ]
    },
    {
      "cell_type": "code",
      "execution_count": 616,
      "metadata": {
        "colab": {
          "base_uri": "https://localhost:8080/"
        },
        "id": "G01g1Kz3O7Ie",
        "outputId": "d3db3502-0f36-476f-8bc9-8e4184ba7ee0"
      },
      "outputs": [
        {
          "output_type": "execute_result",
          "data": {
            "text/plain": [
              "2785    25\n",
              "2786    25\n",
              "2787    25\n",
              "2788    25\n",
              "2789    25\n",
              "Name: labels, dtype: int64"
            ]
          },
          "metadata": {},
          "execution_count": 616
        }
      ],
      "source": [
        "y = hr1['labels']\n",
        "y.tail()"
      ]
    },
    {
      "cell_type": "markdown",
      "metadata": {
        "id": "hkXZ2N8OLQ0F"
      },
      "source": [
        "##Normalization and Data Split"
      ]
    },
    {
      "cell_type": "code",
      "source": [
        "from sklearn.preprocessing import LabelEncoder\n",
        "from sklearn.preprocessing import OneHotEncoder"
      ],
      "metadata": {
        "id": "tSX6fFxhMUw4"
      },
      "execution_count": 617,
      "outputs": []
    },
    {
      "cell_type": "code",
      "source": [
        "#x_train = np.expand_dims(x_train,-1)\n",
        "#x_test = np.expand_dims(x_test,-1)\n"
      ],
      "metadata": {
        "id": "pWbvPtN2K2yk"
      },
      "execution_count": 618,
      "outputs": []
    },
    {
      "cell_type": "code",
      "execution_count": 619,
      "metadata": {
        "id": "S50Rns0gLLZl"
      },
      "outputs": [],
      "source": [
        "x_train,x_test,y_train,y_test = train_test_split(x, y, test_size=0.3)"
      ]
    },
    {
      "cell_type": "code",
      "source": [
        "def labeler(y_pr):\n",
        "  from operator import invert\n",
        "  data = ['A','B','C','D','E','F','G','H','I','J','K','L','M','N','O','P','Q','R','S','T','U','V','W','X','Y','Z']\n",
        "  values = np.array(data)\n",
        "  label_encoder = LabelEncoder()\n",
        "  intger_encoder = label_encoder.fit_transform(values)\n",
        "  intger_encoder = intger_encoder.reshape(len(intger_encoder),1)\n",
        "  inverted = label_encoder.inverse_transform([np.argmax(intger_encoder[:y_pr])])\n",
        "  return inverted"
      ],
      "metadata": {
        "id": "ZCNeAWrXMufd"
      },
      "execution_count": 620,
      "outputs": []
    },
    {
      "cell_type": "code",
      "source": [
        "labeler(5)"
      ],
      "metadata": {
        "colab": {
          "base_uri": "https://localhost:8080/"
        },
        "id": "rmfcEhSujC4i",
        "outputId": "db6bd9dc-0fe8-4161-de21-c9c94198e960"
      },
      "execution_count": 621,
      "outputs": [
        {
          "output_type": "execute_result",
          "data": {
            "text/plain": [
              "array(['E'], dtype='<U1')"
            ]
          },
          "metadata": {},
          "execution_count": 621
        }
      ]
    },
    {
      "cell_type": "code",
      "source": [
        "x_train.shape"
      ],
      "metadata": {
        "colab": {
          "base_uri": "https://localhost:8080/"
        },
        "id": "tF0_0f1YKm-0",
        "outputId": "b4f83e8a-056b-44e5-c53f-9ab4daf183dd"
      },
      "execution_count": 622,
      "outputs": [
        {
          "output_type": "execute_result",
          "data": {
            "text/plain": [
              "(1953, 784)"
            ]
          },
          "metadata": {},
          "execution_count": 622
        }
      ]
    },
    {
      "cell_type": "markdown",
      "metadata": {
        "id": "hW3HoBH1PS1x"
      },
      "source": [
        "#EDA"
      ]
    },
    {
      "cell_type": "code",
      "execution_count": 623,
      "metadata": {
        "colab": {
          "base_uri": "https://localhost:8080/",
          "height": 268
        },
        "id": "2Wn3E5mrPVKK",
        "outputId": "cb672487-6174-4a65-ab66-8bd4d331c40b"
      },
      "outputs": [
        {
          "output_type": "display_data",
          "data": {
            "image/png": "[encoded data removed]",
            "text/plain": [
              "<Figure size 432x288 with 6 Axes>"
            ]
          },
          "metadata": {
            "needs_background": "light"
          }
        }
      ],
      "source": [
        "plt.subplot(3,2,1)\n",
        "plt.grid(True)\n",
        "plt.imshow(x.iloc[18].values.reshape(28,28),cmap='Greys')\n",
        "plt.subplot(3,2,2)\n",
        "plt.grid(True)\n",
        "plt.imshow(x.iloc[21].values.reshape(28,28),cmap='Greys')\n",
        "plt.subplot(3,2,3)\n",
        "plt.grid(True)\n",
        "plt.imshow(x.iloc[42].values.reshape(28,28),cmap='Greys')\n",
        "plt.subplot(3,2,4)\n",
        "plt.grid(True)\n",
        "plt.imshow(x.iloc[67].values.reshape(28,28),cmap='Greys')\n",
        "plt.subplot(3,2,5)\n",
        "plt.grid(True)\n",
        "plt.imshow(x.iloc[88].values.reshape(28,28),cmap='Greys')\n",
        "plt.subplot(3,2,6)\n",
        "plt.grid(True)\n",
        "plt.imshow(x.iloc[102].values.reshape(28,28),cmap='Greys')\n",
        "plt.show()  "
      ]
    },
    {
      "cell_type": "code",
      "source": [
        "sns.countplot(hr1['labels'])"
      ],
      "metadata": {
        "colab": {
          "base_uri": "https://localhost:8080/",
          "height": 299
        },
        "id": "4pPx3lZWcca_",
        "outputId": "63376691-7fce-48bc-df12-1048f4120ea6"
      },
      "execution_count": 624,
      "outputs": [
        {
          "output_type": "execute_result",
          "data": {
            "text/plain": [
              "<matplotlib.axes._subplots.AxesSubplot at 0x7f43e50b83d0>"
            ]
          },
          "metadata": {},
          "execution_count": 624
        },
        {
          "output_type": "display_data",
          "data": {
            "image/png": "[encoded data removed]",
            "text/plain": [
              "<Figure size 432x288 with 1 Axes>"
            ]
          },
          "metadata": {
            "needs_background": "light"
          }
        }
      ]
    },
    {
      "cell_type": "code",
      "source": [
        "plt.scatter(x.iloc[0],x.iloc[30], s = 50,c = 'g')\n",
        "plt.show()"
      ],
      "metadata": {
        "colab": {
          "base_uri": "https://localhost:8080/",
          "height": 265
        },
        "id": "7ieNiqV_gtyK",
        "outputId": "342f5119-3b9c-4d06-db2e-fe00e4ed9aa5"
      },
      "execution_count": 625,
      "outputs": [
        {
          "output_type": "display_data",
          "data": {
            "image/png": "[encoded data removed]",
            "text/plain": [
              "<Figure size 432x288 with 1 Axes>"
            ]
          },
          "metadata": {
            "needs_background": "light"
          }
        }
      ]
    },
    {
      "cell_type": "markdown",
      "metadata": {
        "id": "sYzLEMnjbvNI"
      },
      "source": [
        "#Model"
      ]
    },
    {
      "cell_type": "code",
      "source": [
        "import cv2 as cv\n",
        "from google.colab.patches import cv2_imshow"
      ],
      "metadata": {
        "id": "XwcJSpPMYqT0"
      },
      "execution_count": 626,
      "outputs": []
    },
    {
      "cell_type": "code",
      "execution_count": 627,
      "metadata": {
        "id": "zhX21lwnNFT0"
      },
      "outputs": [],
      "source": [
        "from sklearn.metrics import confusion_matrix, multilabel_confusion_matrix, classification_report,accuracy_score"
      ]
    },
    {
      "cell_type": "code",
      "source": [
        "model_res={}"
      ],
      "metadata": {
        "id": "9tVQ80nHkc9w"
      },
      "execution_count": 628,
      "outputs": []
    },
    {
      "cell_type": "markdown",
      "metadata": {
        "id": "fQdn_O6pHTMn"
      },
      "source": [
        "##KNN"
      ]
    },
    {
      "cell_type": "code",
      "execution_count": 629,
      "metadata": {
        "id": "UYYOS32vzgQQ"
      },
      "outputs": [],
      "source": [
        "from sklearn.neighbors import KNeighborsClassifier as knn\n",
        "from sklearn.metrics import mean_squared_error as mse"
      ]
    },
    {
      "cell_type": "code",
      "source": [
        "m = knn(6)\n",
        "m.fit(x_train,y_train)\n",
        "y_hat = m.predict(x_test)"
      ],
      "metadata": {
        "id": "urgVoNDhIWjK"
      },
      "execution_count": 630,
      "outputs": []
    },
    {
      "cell_type": "code",
      "source": [
        "model_res['KNN'] = accuracy_score(y_test, y_hat)"
      ],
      "metadata": {
        "id": "23omwbzckg2Q"
      },
      "execution_count": 631,
      "outputs": []
    },
    {
      "cell_type": "code",
      "source": [
        "print(multilabel_confusion_matrix(y_test,y_hat))"
      ],
      "metadata": {
        "colab": {
          "base_uri": "https://localhost:8080/"
        },
        "id": "mxLVsM5bJgOs",
        "outputId": "5ffbaa57-441b-490f-c8af-89f39b14d22a"
      },
      "execution_count": 632,
      "outputs": [
        {
          "output_type": "stream",
          "name": "stdout",
          "text": [
            "[[[789   4]\n",
            "  [ 10  34]]\n",
            "\n",
            " [[811   3]\n",
            "  [  7  16]]\n",
            "\n",
            " [[778  15]\n",
            "  [  3  41]]\n",
            "\n",
            " [[804   8]\n",
            "  [  7  18]]\n",
            "\n",
            " [[786  13]\n",
            "  [  8  30]]\n",
            "\n",
            " [[800  13]\n",
            "  [  0  24]]\n",
            "\n",
            " [[800   6]\n",
            "  [ 11  20]]\n",
            "\n",
            " [[802  11]\n",
            "  [  5  19]]\n",
            "\n",
            " [[795  11]\n",
            "  [  7  24]]\n",
            "\n",
            " [[792  16]\n",
            "  [ 10  19]]\n",
            "\n",
            " [[799   8]\n",
            "  [  7  23]]\n",
            "\n",
            " [[800  10]\n",
            "  [  4  23]]\n",
            "\n",
            " [[802   4]\n",
            "  [  0  31]]\n",
            "\n",
            " [[799   3]\n",
            "  [ 11  24]]\n",
            "\n",
            " [[789  15]\n",
            "  [  5  28]]\n",
            "\n",
            " [[804   4]\n",
            "  [  7  22]]\n",
            "\n",
            " [[806   0]\n",
            "  [ 12  19]]\n",
            "\n",
            " [[809   2]\n",
            "  [ 14  12]]\n",
            "\n",
            " [[799   1]\n",
            "  [  7  30]]\n",
            "\n",
            " [[792  11]\n",
            "  [  8  26]]\n",
            "\n",
            " [[801   4]\n",
            "  [ 15  17]]\n",
            "\n",
            " [[791   4]\n",
            "  [  0  42]]\n",
            "\n",
            " [[796   6]\n",
            "  [  4  31]]\n",
            "\n",
            " [[798   7]\n",
            "  [ 12  20]]\n",
            "\n",
            " [[790   9]\n",
            "  [  9  29]]\n",
            "\n",
            " [[805   0]\n",
            "  [  5  27]]]\n"
          ]
        }
      ]
    },
    {
      "cell_type": "code",
      "source": [
        "print(classification_report(y_test,y_hat))"
      ],
      "metadata": {
        "colab": {
          "base_uri": "https://localhost:8080/"
        },
        "id": "TeUt1HEOJkol",
        "outputId": "3ff7ab07-bfd8-4a26-d864-24b96de25242"
      },
      "execution_count": 633,
      "outputs": [
        {
          "output_type": "stream",
          "name": "stdout",
          "text": [
            "              precision    recall  f1-score   support\n",
            "\n",
            "           0       0.89      0.77      0.83        44\n",
            "           1       0.84      0.70      0.76        23\n",
            "           2       0.73      0.93      0.82        44\n",
            "           3       0.69      0.72      0.71        25\n",
            "           4       0.70      0.79      0.74        38\n",
            "           5       0.65      1.00      0.79        24\n",
            "           6       0.77      0.65      0.70        31\n",
            "           7       0.63      0.79      0.70        24\n",
            "           8       0.69      0.77      0.73        31\n",
            "           9       0.54      0.66      0.59        29\n",
            "          10       0.74      0.77      0.75        30\n",
            "          11       0.70      0.85      0.77        27\n",
            "          12       0.89      1.00      0.94        31\n",
            "          13       0.89      0.69      0.77        35\n",
            "          14       0.65      0.85      0.74        33\n",
            "          15       0.85      0.76      0.80        29\n",
            "          16       1.00      0.61      0.76        31\n",
            "          17       0.86      0.46      0.60        26\n",
            "          18       0.97      0.81      0.88        37\n",
            "          19       0.70      0.76      0.73        34\n",
            "          20       0.81      0.53      0.64        32\n",
            "          21       0.91      1.00      0.95        42\n",
            "          22       0.84      0.89      0.86        35\n",
            "          23       0.74      0.62      0.68        32\n",
            "          24       0.76      0.76      0.76        38\n",
            "          25       1.00      0.84      0.92        32\n",
            "\n",
            "    accuracy                           0.78       837\n",
            "   macro avg       0.79      0.77      0.77       837\n",
            "weighted avg       0.79      0.78      0.77       837\n",
            "\n"
          ]
        }
      ]
    },
    {
      "cell_type": "markdown",
      "source": [
        "####Hyperparameter Tuning"
      ],
      "metadata": {
        "id": "dn8LXb00GEC3"
      }
    },
    {
      "cell_type": "code",
      "execution_count": 634,
      "metadata": {
        "id": "V6SQzflCvk6q",
        "colab": {
          "base_uri": "https://localhost:8080/"
        },
        "outputId": "586f110c-8634-47de-b9fd-c6aee6fd1037"
      },
      "outputs": [
        {
          "output_type": "stream",
          "name": "stdout",
          "text": [
            "4.621129592391607 error for k = 1\n",
            "4.691689187414515 error for k = 2\n",
            "4.447221354708778 error for k = 3\n",
            "4.425812198915775 error for k = 4\n",
            "4.454334873320573 error for k = 5\n",
            "4.613884815899147 error for k = 6\n",
            "4.608443759330819 error for k = 7\n",
            "4.7270795174859925 error for k = 8\n",
            "4.580228664996532 error for k = 9\n",
            "4.6390632680293304 error for k = 10\n",
            "4.702245326555294 error for k = 11\n",
            "4.685573578661568 error for k = 12\n",
            "4.78273477953003 error for k = 13\n",
            "4.759195337748125 error for k = 14\n",
            "4.846878806990487 error for k = 15\n",
            "4.697542508087895 error for k = 16\n",
            "4.77973619943619 error for k = 17\n",
            "4.759697389053677 error for k = 18\n",
            "4.7689758048244695 error for k = 19\n",
            "4.805413116582952 error for k = 20\n",
            "4.7922179050230405 error for k = 21\n",
            "4.8771037491209235 error for k = 22\n",
            "4.8627518992287495 error for k = 23\n",
            "4.899345285789795 error for k = 24\n",
            "4.844659822248559 error for k = 25\n",
            "4.846015989216496 error for k = 26\n",
            "4.7472560143173155 error for k = 27\n",
            "4.79832208825174 error for k = 28\n",
            "4.81261782428032 error for k = 29\n",
            "4.834661787525685 error for k = 30\n",
            "4.754423206225426 error for k = 31\n",
            "4.812493696562149 error for k = 32\n",
            "4.832808029790511 error for k = 33\n",
            "4.78959944499419 error for k = 34\n",
            "4.887014955290986 error for k = 35\n",
            "4.920515169578301 error for k = 36\n",
            "4.882000686695819 error for k = 37\n",
            "4.961500524558788 error for k = 38\n",
            "4.8911692303237135 error for k = 39\n",
            "4.905316161346973 error for k = 40\n",
            "4.8932450452516 error for k = 41\n",
            "4.9588509865020285 error for k = 42\n",
            "5.021102422182819 error for k = 43\n",
            "5.011575608891082 error for k = 44\n",
            "5.049220103730276 error for k = 45\n",
            "5.072238023427947 error for k = 46\n",
            "5.050284778513586 error for k = 47\n",
            "5.11702945487467 error for k = 48\n",
            "5.055368463196899 error for k = 49\n",
            "4.96727642933711 error for k = 50\n",
            "5.022648822557986 error for k = 51\n",
            "5.0119331911970555 error for k = 52\n",
            "5.094331190135848 error for k = 53\n",
            "5.142300039993215 error for k = 54\n",
            "5.057967442318186 error for k = 55\n",
            "5.02062651085791 error for k = 56\n",
            "5.053950274896168 error for k = 57\n",
            "5.11294185694469 error for k = 58\n",
            "5.124728625854245 error for k = 59\n",
            "5.1486853247675475 error for k = 60\n",
            "5.166059624414991 error for k = 61\n",
            "5.114694084639903 error for k = 62\n",
            "5.1661752570098685 error for k = 63\n",
            "5.168487365636635 error for k = 64\n",
            "5.2717093956524455 error for k = 65\n",
            "5.316618071484975 error for k = 66\n",
            "5.3041315246310985 error for k = 67\n",
            "5.335237115410926 error for k = 68\n",
            "5.313358652233448 error for k = 69\n",
            "5.391040844391928 error for k = 70\n",
            "5.372059224416017 error for k = 71\n",
            "5.383722535505248 error for k = 72\n",
            "5.328066395731549 error for k = 73\n",
            "5.329747898754422 error for k = 74\n",
            "5.317853880323633 error for k = 75\n",
            "5.408630653280747 error for k = 76\n",
            "5.354126134736337 error for k = 77\n",
            "5.403989853075095 error for k = 78\n",
            "5.406310751138281 error for k = 79\n",
            "5.439028833123683 error for k = 80\n",
            "5.440236835100405 error for k = 81\n",
            "5.476680224766539 error for k = 82\n",
            "5.523599851238949 error for k = 83\n",
            "5.517540185745294 error for k = 84\n",
            "5.538072850374699 error for k = 85\n",
            "5.5377492419453835 error for k = 86\n",
            "5.627102023280386 error for k = 87\n",
            "5.5899295011616195 error for k = 88\n",
            "5.590998055737389 error for k = 89\n",
            "5.60870632310847 error for k = 90\n",
            "5.63060420414219 error for k = 91\n",
            "5.594202494830347 error for k = 92\n",
            "5.578161891127938 error for k = 93\n",
            "5.59601752913444 error for k = 94\n",
            "5.599112406190512 error for k = 95\n",
            "5.58982263446943 error for k = 96\n",
            "5.588753855156308 error for k = 97\n",
            "5.56733518188721 error for k = 98\n",
            "5.57805479898699 error for k = 99\n"
          ]
        }
      ],
      "source": [
        "for i in range(1,100):\n",
        "  model = knn(i)\n",
        "  model.fit(x_train, y_train)\n",
        "  y_cap = model.predict(x_test)\n",
        "  error = mse(y_test, y_cap, squared = False)\n",
        "  print(\"{} error for k = {}\".format(error,i))\n"
      ]
    },
    {
      "cell_type": "markdown",
      "metadata": {
        "id": "yrt1TkksvmE_"
      },
      "source": [
        "##Naive Bayes"
      ]
    },
    {
      "cell_type": "markdown",
      "metadata": {
        "id": "FOpvFaVcrkqc"
      },
      "source": [
        "###Multinomial Naive Bayes"
      ]
    },
    {
      "cell_type": "code",
      "execution_count": 635,
      "metadata": {
        "id": "XY3I6pWirppO"
      },
      "outputs": [],
      "source": [
        "from sklearn.naive_bayes import MultinomialNB"
      ]
    },
    {
      "cell_type": "code",
      "execution_count": 636,
      "metadata": {
        "id": "oqvPKkHer1Nh",
        "colab": {
          "base_uri": "https://localhost:8080/"
        },
        "outputId": "d0049918-b423-4746-8bb5-7007976ead8c"
      },
      "outputs": [
        {
          "output_type": "execute_result",
          "data": {
            "text/plain": [
              "0.7132616487455197"
            ]
          },
          "metadata": {},
          "execution_count": 636
        }
      ],
      "source": [
        "cl = MultinomialNB()\n",
        "cl.fit(x_train,y_train)\n",
        "y_hat = cl.predict(x_test)\n",
        "cl.score(x_test,y_test)"
      ]
    },
    {
      "cell_type": "code",
      "source": [
        "model_res['MultinomialNB'] = accuracy_score(y_test,y_hat)"
      ],
      "metadata": {
        "id": "XoT-J89vk_HX"
      },
      "execution_count": 637,
      "outputs": []
    },
    {
      "cell_type": "code",
      "execution_count": 638,
      "metadata": {
        "id": "Wg7FOMnBu0di",
        "colab": {
          "base_uri": "https://localhost:8080/"
        },
        "outputId": "8befe25a-f6d6-4ab1-d738-42a45a2e0d8a"
      },
      "outputs": [
        {
          "output_type": "stream",
          "name": "stdout",
          "text": [
            "              precision    recall  f1-score   support\n",
            "\n",
            "           0       0.68      0.68      0.68        44\n",
            "           1       0.41      0.61      0.49        23\n",
            "           2       0.87      0.77      0.82        44\n",
            "           3       0.64      0.72      0.68        25\n",
            "           4       0.53      0.47      0.50        38\n",
            "           5       0.85      0.96      0.90        24\n",
            "           6       0.81      0.81      0.81        31\n",
            "           7       0.62      0.62      0.62        24\n",
            "           8       0.76      0.84      0.80        31\n",
            "           9       0.74      0.48      0.58        29\n",
            "          10       0.58      0.63      0.60        30\n",
            "          11       0.62      0.67      0.64        27\n",
            "          12       0.62      0.97      0.76        31\n",
            "          13       0.54      0.60      0.57        35\n",
            "          14       0.66      0.76      0.70        33\n",
            "          15       0.90      0.90      0.90        29\n",
            "          16       0.79      0.74      0.77        31\n",
            "          17       0.39      0.35      0.37        26\n",
            "          18       0.83      0.81      0.82        37\n",
            "          19       0.89      0.71      0.79        34\n",
            "          20       0.76      0.50      0.60        32\n",
            "          21       0.78      0.86      0.82        42\n",
            "          22       0.84      0.89      0.86        35\n",
            "          23       0.66      0.59      0.62        32\n",
            "          24       0.82      0.71      0.76        38\n",
            "          25       1.00      0.81      0.90        32\n",
            "\n",
            "    accuracy                           0.71       837\n",
            "   macro avg       0.72      0.71      0.71       837\n",
            "weighted avg       0.72      0.71      0.71       837\n",
            "\n"
          ]
        }
      ],
      "source": [
        "print(classification_report(y_test,y_hat))"
      ]
    },
    {
      "cell_type": "markdown",
      "source": [
        "###Gaussian Naive Bayes"
      ],
      "metadata": {
        "id": "nRNCQdt7FEdQ"
      }
    },
    {
      "cell_type": "code",
      "execution_count": 639,
      "metadata": {
        "id": "3uzmH9HzuqxJ"
      },
      "outputs": [],
      "source": [
        "from sklearn.naive_bayes import GaussianNB"
      ]
    },
    {
      "cell_type": "code",
      "execution_count": 640,
      "metadata": {
        "id": "E8H9NOrHv8JZ",
        "colab": {
          "base_uri": "https://localhost:8080/"
        },
        "outputId": "070f75e2-f527-4133-e9ff-53f937eac9cd"
      },
      "outputs": [
        {
          "output_type": "execute_result",
          "data": {
            "text/plain": [
              "0.5519713261648745"
            ]
          },
          "metadata": {},
          "execution_count": 640
        }
      ],
      "source": [
        "cl1 = GaussianNB()\n",
        "cl1.fit(x_train,y_train)\n",
        "y_h = cl1.predict(x_test)\n",
        "cl1.score(x_test,y_test)"
      ]
    },
    {
      "cell_type": "code",
      "source": [
        "model_res['GaussianNB'] = accuracy_score(y_test,y_h)"
      ],
      "metadata": {
        "id": "44lQHvd9kve5"
      },
      "execution_count": 641,
      "outputs": []
    },
    {
      "cell_type": "code",
      "execution_count": 642,
      "metadata": {
        "id": "DheV7v-xwb90",
        "colab": {
          "base_uri": "https://localhost:8080/"
        },
        "outputId": "3684e75e-c10c-478b-b988-ae298eaf3c81"
      },
      "outputs": [
        {
          "output_type": "stream",
          "name": "stdout",
          "text": [
            "              precision    recall  f1-score   support\n",
            "\n",
            "           0       0.66      0.57      0.61        44\n",
            "           1       0.54      0.30      0.39        23\n",
            "           2       0.93      0.32      0.47        44\n",
            "           3       0.60      0.36      0.45        25\n",
            "           4       0.75      0.16      0.26        38\n",
            "           5       0.72      0.88      0.79        24\n",
            "           6       0.88      0.68      0.76        31\n",
            "           7       0.50      0.21      0.29        24\n",
            "           8       0.72      0.74      0.73        31\n",
            "           9       0.33      0.03      0.06        29\n",
            "          10       0.57      0.57      0.57        30\n",
            "          11       0.35      0.63      0.45        27\n",
            "          12       0.68      0.90      0.78        31\n",
            "          13       0.50      0.20      0.29        35\n",
            "          14       0.49      0.82      0.61        33\n",
            "          15       0.27      0.90      0.41        29\n",
            "          16       0.45      0.61      0.52        31\n",
            "          17       0.46      0.23      0.31        26\n",
            "          18       0.73      0.65      0.69        37\n",
            "          19       0.54      0.82      0.65        34\n",
            "          20       0.42      0.16      0.23        32\n",
            "          21       0.61      0.95      0.74        42\n",
            "          22       0.66      0.54      0.59        35\n",
            "          23       0.51      0.56      0.54        32\n",
            "          24       0.41      0.61      0.49        38\n",
            "          25       1.00      0.81      0.90        32\n",
            "\n",
            "    accuracy                           0.55       837\n",
            "   macro avg       0.59      0.55      0.52       837\n",
            "weighted avg       0.60      0.55      0.53       837\n",
            "\n"
          ]
        }
      ],
      "source": [
        "print(classification_report(y_test,y_h))"
      ]
    },
    {
      "cell_type": "markdown",
      "metadata": {
        "id": "9jMLEm7XFWb0"
      },
      "source": [
        "##SVM"
      ]
    },
    {
      "cell_type": "markdown",
      "metadata": {
        "id": "Lge_XQRMRPOL"
      },
      "source": [
        "###Liner"
      ]
    },
    {
      "cell_type": "code",
      "source": [
        "import warnings\n",
        "warnings.filterwarnings('ignore')"
      ],
      "metadata": {
        "id": "Z4LrVq9fD-Fr"
      },
      "execution_count": 643,
      "outputs": []
    },
    {
      "cell_type": "code",
      "execution_count": 644,
      "metadata": {
        "colab": {
          "base_uri": "https://localhost:8080/"
        },
        "id": "VWtwUhY6FZys",
        "outputId": "0dbb2359-55fb-4b5c-d05d-73cc2e5dab01"
      },
      "outputs": [
        {
          "output_type": "execute_result",
          "data": {
            "text/plain": [
              "0.8207885304659498"
            ]
          },
          "metadata": {},
          "execution_count": 644
        }
      ],
      "source": [
        "from sklearn.svm import SVC\n",
        "classifier = SVC(kernel = 'linear', random_state = 0)\n",
        "classifier.fit(x_train,y_train)\n",
        "y_cap = classifier.predict(x_test)\n",
        "classifier.score(x_test,y_test)"
      ]
    },
    {
      "cell_type": "code",
      "source": [
        "model_res['Linear SVM'] = accuracy_score(y_test,y_cap)"
      ],
      "metadata": {
        "id": "bLTjpgTelIX1"
      },
      "execution_count": 645,
      "outputs": []
    },
    {
      "cell_type": "code",
      "execution_count": 646,
      "metadata": {
        "colab": {
          "base_uri": "https://localhost:8080/"
        },
        "id": "VtB2vPW5OZTN",
        "outputId": "62997ca4-faca-4acf-c9ff-520adfce503d"
      },
      "outputs": [
        {
          "output_type": "execute_result",
          "data": {
            "text/plain": [
              "{'C': 1.0,\n",
              " 'break_ties': False,\n",
              " 'cache_size': 200,\n",
              " 'class_weight': None,\n",
              " 'coef0': 0.0,\n",
              " 'decision_function_shape': 'ovr',\n",
              " 'degree': 3,\n",
              " 'gamma': 'scale',\n",
              " 'kernel': 'linear',\n",
              " 'max_iter': -1,\n",
              " 'probability': False,\n",
              " 'random_state': 0,\n",
              " 'shrinking': True,\n",
              " 'tol': 0.001,\n",
              " 'verbose': False}"
            ]
          },
          "metadata": {},
          "execution_count": 646
        }
      ],
      "source": [
        "classifier.get_params()"
      ]
    },
    {
      "cell_type": "code",
      "execution_count": 647,
      "metadata": {
        "colab": {
          "base_uri": "https://localhost:8080/"
        },
        "id": "VarVuwESNfRC",
        "outputId": "5f6a3a61-e501-495b-e9c2-6df6c41357b1"
      },
      "outputs": [
        {
          "output_type": "stream",
          "name": "stdout",
          "text": [
            "[[[782  11]\n",
            "  [  8  36]]\n",
            "\n",
            " [[804  10]\n",
            "  [  6  17]]\n",
            "\n",
            " [[788   5]\n",
            "  [  4  40]]\n",
            "\n",
            " [[806   6]\n",
            "  [  6  19]]\n",
            "\n",
            " [[795   4]\n",
            "  [ 14  24]]\n",
            "\n",
            " [[807   6]\n",
            "  [  0  24]]\n",
            "\n",
            " [[801   5]\n",
            "  [  5  26]]\n",
            "\n",
            " [[804   9]\n",
            "  [  4  20]]\n",
            "\n",
            " [[802   4]\n",
            "  [  5  26]]\n",
            "\n",
            " [[796  12]\n",
            "  [  6  23]]\n",
            "\n",
            " [[795  12]\n",
            "  [  7  23]]\n",
            "\n",
            " [[804   6]\n",
            "  [  0  27]]\n",
            "\n",
            " [[803   3]\n",
            "  [  1  30]]\n",
            "\n",
            " [[793   9]\n",
            "  [  7  28]]\n",
            "\n",
            " [[794  10]\n",
            "  [  6  27]]\n",
            "\n",
            " [[805   3]\n",
            "  [  6  23]]\n",
            "\n",
            " [[805   1]\n",
            "  [  5  26]]\n",
            "\n",
            " [[805   6]\n",
            "  [ 13  13]]\n",
            "\n",
            " [[798   2]\n",
            "  [  8  29]]\n",
            "\n",
            " [[799   4]\n",
            "  [  4  30]]\n",
            "\n",
            " [[799   6]\n",
            "  [ 10  22]]\n",
            "\n",
            " [[790   5]\n",
            "  [  1  41]]\n",
            "\n",
            " [[799   3]\n",
            "  [  5  30]]\n",
            "\n",
            " [[800   5]\n",
            "  [  5  27]]\n",
            "\n",
            " [[796   3]\n",
            "  [ 10  28]]\n",
            "\n",
            " [[805   0]\n",
            "  [  4  28]]]\n"
          ]
        }
      ],
      "source": [
        "print(multilabel_confusion_matrix(y_test,y_cap))"
      ]
    },
    {
      "cell_type": "code",
      "execution_count": 648,
      "metadata": {
        "colab": {
          "base_uri": "https://localhost:8080/"
        },
        "id": "AyGcna3gO2gG",
        "outputId": "95117442-f42a-4498-b7e9-2450211909b0"
      },
      "outputs": [
        {
          "output_type": "stream",
          "name": "stdout",
          "text": [
            "              precision    recall  f1-score   support\n",
            "\n",
            "           0       0.77      0.82      0.79        44\n",
            "           1       0.63      0.74      0.68        23\n",
            "           2       0.89      0.91      0.90        44\n",
            "           3       0.76      0.76      0.76        25\n",
            "           4       0.86      0.63      0.73        38\n",
            "           5       0.80      1.00      0.89        24\n",
            "           6       0.84      0.84      0.84        31\n",
            "           7       0.69      0.83      0.75        24\n",
            "           8       0.87      0.84      0.85        31\n",
            "           9       0.66      0.79      0.72        29\n",
            "          10       0.66      0.77      0.71        30\n",
            "          11       0.82      1.00      0.90        27\n",
            "          12       0.91      0.97      0.94        31\n",
            "          13       0.76      0.80      0.78        35\n",
            "          14       0.73      0.82      0.77        33\n",
            "          15       0.88      0.79      0.84        29\n",
            "          16       0.96      0.84      0.90        31\n",
            "          17       0.68      0.50      0.58        26\n",
            "          18       0.94      0.78      0.85        37\n",
            "          19       0.88      0.88      0.88        34\n",
            "          20       0.79      0.69      0.73        32\n",
            "          21       0.89      0.98      0.93        42\n",
            "          22       0.91      0.86      0.88        35\n",
            "          23       0.84      0.84      0.84        32\n",
            "          24       0.90      0.74      0.81        38\n",
            "          25       1.00      0.88      0.93        32\n",
            "\n",
            "    accuracy                           0.82       837\n",
            "   macro avg       0.82      0.82      0.81       837\n",
            "weighted avg       0.83      0.82      0.82       837\n",
            "\n"
          ]
        }
      ],
      "source": [
        "print(classification_report(y_test,y_cap))"
      ]
    },
    {
      "cell_type": "markdown",
      "source": [
        "###RBF"
      ],
      "metadata": {
        "id": "qrVgaSFPW3Mq"
      }
    },
    {
      "cell_type": "code",
      "source": [
        "classif = SVC(kernel = 'rbf', random_state = 0)\n",
        "classif.fit(x_train,y_train)\n",
        "y_c = classif.predict(x_test)"
      ],
      "metadata": {
        "id": "x3C27_KhW7Hd"
      },
      "execution_count": 649,
      "outputs": []
    },
    {
      "cell_type": "code",
      "source": [
        "model_res['RBF'] = accuracy_score(y_test, y_c)"
      ],
      "metadata": {
        "id": "FJPBn5RBj5E9"
      },
      "execution_count": 650,
      "outputs": []
    },
    {
      "cell_type": "code",
      "source": [
        "classifier.get_params()"
      ],
      "metadata": {
        "id": "ZwiuRItcW7V9",
        "colab": {
          "base_uri": "https://localhost:8080/"
        },
        "outputId": "97eeb2b0-7812-48e5-8580-222738583676"
      },
      "execution_count": 651,
      "outputs": [
        {
          "output_type": "execute_result",
          "data": {
            "text/plain": [
              "{'C': 1.0,\n",
              " 'break_ties': False,\n",
              " 'cache_size': 200,\n",
              " 'class_weight': None,\n",
              " 'coef0': 0.0,\n",
              " 'decision_function_shape': 'ovr',\n",
              " 'degree': 3,\n",
              " 'gamma': 'scale',\n",
              " 'kernel': 'linear',\n",
              " 'max_iter': -1,\n",
              " 'probability': False,\n",
              " 'random_state': 0,\n",
              " 'shrinking': True,\n",
              " 'tol': 0.001,\n",
              " 'verbose': False}"
            ]
          },
          "metadata": {},
          "execution_count": 651
        }
      ]
    },
    {
      "cell_type": "code",
      "source": [
        "print(multilabel_confusion_matrix(y_test,y_c))"
      ],
      "metadata": {
        "id": "0knARmAEW7j3",
        "colab": {
          "base_uri": "https://localhost:8080/"
        },
        "outputId": "2f809328-f7d4-40fd-c26b-3563ce2f0c0d"
      },
      "execution_count": 652,
      "outputs": [
        {
          "output_type": "stream",
          "name": "stdout",
          "text": [
            "[[[787   6]\n",
            "  [ 10  34]]\n",
            "\n",
            " [[808   6]\n",
            "  [  4  19]]\n",
            "\n",
            " [[791   2]\n",
            "  [  2  42]]\n",
            "\n",
            " [[805   7]\n",
            "  [  3  22]]\n",
            "\n",
            " [[796   3]\n",
            "  [  9  29]]\n",
            "\n",
            " [[809   4]\n",
            "  [  0  24]]\n",
            "\n",
            " [[804   2]\n",
            "  [  5  26]]\n",
            "\n",
            " [[803  10]\n",
            "  [  0  24]]\n",
            "\n",
            " [[803   3]\n",
            "  [  4  27]]\n",
            "\n",
            " [[795  13]\n",
            "  [  6  23]]\n",
            "\n",
            " [[795  12]\n",
            "  [  7  23]]\n",
            "\n",
            " [[804   6]\n",
            "  [  1  26]]\n",
            "\n",
            " [[801   5]\n",
            "  [  1  30]]\n",
            "\n",
            " [[798   4]\n",
            "  [  9  26]]\n",
            "\n",
            " [[796   8]\n",
            "  [  6  27]]\n",
            "\n",
            " [[807   1]\n",
            "  [  2  27]]\n",
            "\n",
            " [[805   1]\n",
            "  [  3  28]]\n",
            "\n",
            " [[807   4]\n",
            "  [  9  17]]\n",
            "\n",
            " [[799   1]\n",
            "  [  7  30]]\n",
            "\n",
            " [[799   4]\n",
            "  [  5  29]]\n",
            "\n",
            " [[803   2]\n",
            "  [  8  24]]\n",
            "\n",
            " [[792   3]\n",
            "  [  0  42]]\n",
            "\n",
            " [[797   5]\n",
            "  [  3  32]]\n",
            "\n",
            " [[802   3]\n",
            "  [  7  25]]\n",
            "\n",
            " [[793   6]\n",
            "  [  6  32]]\n",
            "\n",
            " [[805   0]\n",
            "  [  4  28]]]\n"
          ]
        }
      ]
    },
    {
      "cell_type": "code",
      "source": [
        "print(classification_report(y_test,y_c))"
      ],
      "metadata": {
        "id": "o1E8-w4VXUmM",
        "colab": {
          "base_uri": "https://localhost:8080/"
        },
        "outputId": "b128929b-e6a7-47fa-9ee3-c38d17ec8354"
      },
      "execution_count": 653,
      "outputs": [
        {
          "output_type": "stream",
          "name": "stdout",
          "text": [
            "              precision    recall  f1-score   support\n",
            "\n",
            "           0       0.85      0.77      0.81        44\n",
            "           1       0.76      0.83      0.79        23\n",
            "           2       0.95      0.95      0.95        44\n",
            "           3       0.76      0.88      0.81        25\n",
            "           4       0.91      0.76      0.83        38\n",
            "           5       0.86      1.00      0.92        24\n",
            "           6       0.93      0.84      0.88        31\n",
            "           7       0.71      1.00      0.83        24\n",
            "           8       0.90      0.87      0.89        31\n",
            "           9       0.64      0.79      0.71        29\n",
            "          10       0.66      0.77      0.71        30\n",
            "          11       0.81      0.96      0.88        27\n",
            "          12       0.86      0.97      0.91        31\n",
            "          13       0.87      0.74      0.80        35\n",
            "          14       0.77      0.82      0.79        33\n",
            "          15       0.96      0.93      0.95        29\n",
            "          16       0.97      0.90      0.93        31\n",
            "          17       0.81      0.65      0.72        26\n",
            "          18       0.97      0.81      0.88        37\n",
            "          19       0.88      0.85      0.87        34\n",
            "          20       0.92      0.75      0.83        32\n",
            "          21       0.93      1.00      0.97        42\n",
            "          22       0.86      0.91      0.89        35\n",
            "          23       0.89      0.78      0.83        32\n",
            "          24       0.84      0.84      0.84        38\n",
            "          25       1.00      0.88      0.93        32\n",
            "\n",
            "    accuracy                           0.86       837\n",
            "   macro avg       0.86      0.86      0.85       837\n",
            "weighted avg       0.86      0.86      0.86       837\n",
            "\n"
          ]
        }
      ]
    },
    {
      "cell_type": "code",
      "source": [
        "pred_val = np.array(x.iloc[300])\n",
        "pred_val1 = pred_val.reshape(1,-1)\n",
        "yc = classif.predict(pred_val1)\n",
        "print(yc)\n",
        "yc = yc.item()+1\n",
        "print(yc)"
      ],
      "metadata": {
        "colab": {
          "base_uri": "https://localhost:8080/"
        },
        "id": "3lfq6U-mxfRt",
        "outputId": "cfd5ca6c-af6d-481d-f6ed-26a49f651f10"
      },
      "execution_count": 666,
      "outputs": [
        {
          "output_type": "stream",
          "name": "stdout",
          "text": [
            "[14]\n",
            "15\n"
          ]
        }
      ]
    },
    {
      "cell_type": "code",
      "source": [
        "print(labeler(yc))"
      ],
      "metadata": {
        "colab": {
          "base_uri": "https://localhost:8080/"
        },
        "id": "BKOVcGHQxo4F",
        "outputId": "4e111252-2c85-4a84-e61f-b4560bf07992"
      },
      "execution_count": 667,
      "outputs": [
        {
          "output_type": "stream",
          "name": "stdout",
          "text": [
            "['O']\n"
          ]
        }
      ]
    },
    {
      "cell_type": "markdown",
      "source": [
        "###Polynomial SVM"
      ],
      "metadata": {
        "id": "O33MZ7jvzY-k"
      }
    },
    {
      "cell_type": "code",
      "source": [
        "mod = SVC(kernel = 'poly', random_state = 0)\n",
        "mod.fit(x_train,y_train)\n",
        "y_capp = mod.predict(x_test)"
      ],
      "metadata": {
        "id": "wWQ9dR08zfHo"
      },
      "execution_count": 670,
      "outputs": []
    },
    {
      "cell_type": "code",
      "source": [
        "model_res['Polinomial SVM'] = accuracy_score(y_test,y_capp)"
      ],
      "metadata": {
        "id": "vJIeuX8g0jep"
      },
      "execution_count": 676,
      "outputs": []
    },
    {
      "cell_type": "code",
      "source": [
        "mod.get_params()"
      ],
      "metadata": {
        "colab": {
          "base_uri": "https://localhost:8080/"
        },
        "id": "w6df2xmVznit",
        "outputId": "59977602-1089-4f6e-8c3e-24190341bb22"
      },
      "execution_count": 671,
      "outputs": [
        {
          "output_type": "execute_result",
          "data": {
            "text/plain": [
              "{'C': 1.0,\n",
              " 'break_ties': False,\n",
              " 'cache_size': 200,\n",
              " 'class_weight': None,\n",
              " 'coef0': 0.0,\n",
              " 'decision_function_shape': 'ovr',\n",
              " 'degree': 3,\n",
              " 'gamma': 'scale',\n",
              " 'kernel': 'poly',\n",
              " 'max_iter': -1,\n",
              " 'probability': False,\n",
              " 'random_state': 0,\n",
              " 'shrinking': True,\n",
              " 'tol': 0.001,\n",
              " 'verbose': False}"
            ]
          },
          "metadata": {},
          "execution_count": 671
        }
      ]
    },
    {
      "cell_type": "code",
      "source": [
        "print(multilabel_confusion_matrix(y_test,y_capp))"
      ],
      "metadata": {
        "colab": {
          "base_uri": "https://localhost:8080/"
        },
        "id": "-HlT_yp3z8Pp",
        "outputId": "9ffe0052-7064-4a95-b656-52610d3524e1"
      },
      "execution_count": 672,
      "outputs": [
        {
          "output_type": "stream",
          "name": "stdout",
          "text": [
            "[[[789   4]\n",
            "  [ 16  28]]\n",
            "\n",
            " [[809   5]\n",
            "  [  6  17]]\n",
            "\n",
            " [[786   7]\n",
            "  [  7  37]]\n",
            "\n",
            " [[810   2]\n",
            "  [  3  22]]\n",
            "\n",
            " [[796   3]\n",
            "  [ 13  25]]\n",
            "\n",
            " [[808   5]\n",
            "  [  0  24]]\n",
            "\n",
            " [[803   3]\n",
            "  [  9  22]]\n",
            "\n",
            " [[805   8]\n",
            "  [  2  22]]\n",
            "\n",
            " [[802   4]\n",
            "  [  5  26]]\n",
            "\n",
            " [[727  81]\n",
            "  [  5  24]]\n",
            "\n",
            " [[796  11]\n",
            "  [  6  24]]\n",
            "\n",
            " [[804   6]\n",
            "  [  7  20]]\n",
            "\n",
            " [[804   2]\n",
            "  [  3  28]]\n",
            "\n",
            " [[795   7]\n",
            "  [ 11  24]]\n",
            "\n",
            " [[798   6]\n",
            "  [  4  29]]\n",
            "\n",
            " [[806   2]\n",
            "  [  5  24]]\n",
            "\n",
            " [[806   0]\n",
            "  [  7  24]]\n",
            "\n",
            " [[808   3]\n",
            "  [ 11  15]]\n",
            "\n",
            " [[800   0]\n",
            "  [  9  28]]\n",
            "\n",
            " [[799   4]\n",
            "  [  8  26]]\n",
            "\n",
            " [[803   2]\n",
            "  [ 15  17]]\n",
            "\n",
            " [[792   3]\n",
            "  [  0  42]]\n",
            "\n",
            " [[796   6]\n",
            "  [  6  29]]\n",
            "\n",
            " [[803   2]\n",
            "  [ 11  21]]\n",
            "\n",
            " [[792   7]\n",
            "  [  9  29]]\n",
            "\n",
            " [[805   0]\n",
            "  [  5  27]]]\n"
          ]
        }
      ]
    },
    {
      "cell_type": "code",
      "source": [
        "print(classification_report(y_test,y_capp))"
      ],
      "metadata": {
        "colab": {
          "base_uri": "https://localhost:8080/"
        },
        "id": "sHZvFMUR0J9s",
        "outputId": "0b22c744-a907-43b0-f83a-b59db2c581dc"
      },
      "execution_count": 675,
      "outputs": [
        {
          "output_type": "stream",
          "name": "stdout",
          "text": [
            "              precision    recall  f1-score   support\n",
            "\n",
            "           0       0.88      0.64      0.74        44\n",
            "           1       0.77      0.74      0.76        23\n",
            "           2       0.84      0.84      0.84        44\n",
            "           3       0.92      0.88      0.90        25\n",
            "           4       0.89      0.66      0.76        38\n",
            "           5       0.83      1.00      0.91        24\n",
            "           6       0.88      0.71      0.79        31\n",
            "           7       0.73      0.92      0.81        24\n",
            "           8       0.87      0.84      0.85        31\n",
            "           9       0.23      0.83      0.36        29\n",
            "          10       0.69      0.80      0.74        30\n",
            "          11       0.77      0.74      0.75        27\n",
            "          12       0.93      0.90      0.92        31\n",
            "          13       0.77      0.69      0.73        35\n",
            "          14       0.83      0.88      0.85        33\n",
            "          15       0.92      0.83      0.87        29\n",
            "          16       1.00      0.77      0.87        31\n",
            "          17       0.83      0.58      0.68        26\n",
            "          18       1.00      0.76      0.86        37\n",
            "          19       0.87      0.76      0.81        34\n",
            "          20       0.89      0.53      0.67        32\n",
            "          21       0.93      1.00      0.97        42\n",
            "          22       0.83      0.83      0.83        35\n",
            "          23       0.91      0.66      0.76        32\n",
            "          24       0.81      0.76      0.78        38\n",
            "          25       1.00      0.84      0.92        32\n",
            "\n",
            "    accuracy                           0.78       837\n",
            "   macro avg       0.84      0.78      0.80       837\n",
            "weighted avg       0.85      0.78      0.80       837\n",
            "\n"
          ]
        }
      ]
    },
    {
      "cell_type": "markdown",
      "metadata": {
        "id": "9n9QQiFKbyPB"
      },
      "source": [
        "##K Mean clustering"
      ]
    },
    {
      "cell_type": "code",
      "execution_count": 654,
      "metadata": {
        "id": "eX6yE4OWR__Y"
      },
      "outputs": [],
      "source": [
        "from sklearn.cluster import MiniBatchKMeans"
      ]
    },
    {
      "cell_type": "code",
      "execution_count": 655,
      "metadata": {
        "id": "Mz69PTU4dfsr",
        "colab": {
          "base_uri": "https://localhost:8080/"
        },
        "outputId": "ec9fbb7b-0872-42e3-fc42-55dd419b9c0a"
      },
      "outputs": [
        {
          "output_type": "execute_result",
          "data": {
            "text/plain": [
              "MiniBatchKMeans(n_clusters=26)"
            ]
          },
          "metadata": {},
          "execution_count": 655
        }
      ],
      "source": [
        "mbkm = MiniBatchKMeans(n_clusters = 26)\n",
        "mbkm.fit(x.values)"
      ]
    },
    {
      "cell_type": "code",
      "execution_count": 656,
      "metadata": {
        "id": "jVOszwBSeV0l",
        "colab": {
          "base_uri": "https://localhost:8080/"
        },
        "outputId": "85418eb9-2083-4393-997d-9d3aac8cab5c"
      },
      "outputs": [
        {
          "output_type": "execute_result",
          "data": {
            "text/plain": [
              "array([[0., 0., 0., ..., 0., 0., 0.],\n",
              "       [0., 0., 0., ..., 0., 0., 0.],\n",
              "       [0., 0., 0., ..., 0., 0., 0.],\n",
              "       ...,\n",
              "       [0., 0., 0., ..., 0., 0., 0.],\n",
              "       [0., 0., 0., ..., 0., 0., 0.],\n",
              "       [0., 0., 0., ..., 0., 0., 0.]])"
            ]
          },
          "metadata": {},
          "execution_count": 656
        }
      ],
      "source": [
        "mbkm.cluster_centers_"
      ]
    },
    {
      "cell_type": "code",
      "source": [
        "mbkm.get_params()"
      ],
      "metadata": {
        "colab": {
          "base_uri": "https://localhost:8080/"
        },
        "id": "zmcTgGtEwTor",
        "outputId": "9c32d09b-0f6e-4039-818f-9b12792229cd"
      },
      "execution_count": 657,
      "outputs": [
        {
          "output_type": "execute_result",
          "data": {
            "text/plain": [
              "{'batch_size': 1024,\n",
              " 'compute_labels': True,\n",
              " 'init': 'k-means++',\n",
              " 'init_size': None,\n",
              " 'max_iter': 100,\n",
              " 'max_no_improvement': 10,\n",
              " 'n_clusters': 26,\n",
              " 'n_init': 3,\n",
              " 'random_state': None,\n",
              " 'reassignment_ratio': 0.01,\n",
              " 'tol': 0.0,\n",
              " 'verbose': 0}"
            ]
          },
          "metadata": {},
          "execution_count": 657
        }
      ]
    },
    {
      "cell_type": "code",
      "execution_count": 658,
      "metadata": {
        "colab": {
          "base_uri": "https://localhost:8080/"
        },
        "id": "Pv8T6qtVdsFP",
        "outputId": "4bca3f5b-58df-4255-897c-c1860c7daf6f"
      },
      "outputs": [
        {
          "output_type": "execute_result",
          "data": {
            "text/plain": [
              "array([ 0,  4,  9, ..., 13, 13, 13], dtype=int32)"
            ]
          },
          "metadata": {},
          "execution_count": 658
        }
      ],
      "source": [
        "yca = mbkm.labels_\n",
        "yca"
      ]
    },
    {
      "cell_type": "code",
      "execution_count": 659,
      "metadata": {
        "id": "qn17CQXKqhxe",
        "colab": {
          "base_uri": "https://localhost:8080/"
        },
        "outputId": "13279b7c-ea7b-4bb1-ba3c-375f4eae45ac"
      },
      "outputs": [
        {
          "output_type": "stream",
          "name": "stdout",
          "text": [
            "[4]\n",
            "5\n"
          ]
        }
      ],
      "source": [
        "pred_val = np.array(x.iloc[1])\n",
        "pred_val1 = pred_val.reshape(1,-1)\n",
        "yc = mbkm.predict(pred_val1)\n",
        "print(yc)\n",
        "yc = yc.item()+1\n",
        "print(yc)"
      ]
    },
    {
      "cell_type": "code",
      "execution_count": 660,
      "metadata": {
        "colab": {
          "base_uri": "https://localhost:8080/"
        },
        "id": "dIf4PnMfUR5F",
        "outputId": "73a7ce58-fd31-44a8-c8b3-425ced2076ee"
      },
      "outputs": [
        {
          "output_type": "stream",
          "name": "stdout",
          "text": [
            "['E']\n"
          ]
        }
      ],
      "source": [
        "print(labeler(yc))"
      ]
    },
    {
      "cell_type": "markdown",
      "source": [
        "#Inference"
      ],
      "metadata": {
        "id": "JcfurbhEjhjg"
      }
    },
    {
      "cell_type": "code",
      "source": [
        "res = pd.DataFrame(model_res, index=['Accuracy score'])\n",
        "res.T.sort_values('Accuracy score',ascending=False)"
      ],
      "metadata": {
        "colab": {
          "base_uri": "https://localhost:8080/",
          "height": 238
        },
        "id": "5eJK6XkedYug",
        "outputId": "1b8d0775-68c3-47a4-df42-495f09233a70"
      },
      "execution_count": 677,
      "outputs": [
        {
          "output_type": "execute_result",
          "data": {
            "text/html": [
              "\n",
              "  <div id=\"df-d919a50e-e164-408b-a15d-ef62c6d8db3a\">\n",
              "    <div class=\"colab-df-container\">\n",
              "      <div>\n",
              "<style scoped>\n",
              "    .dataframe tbody tr th:only-of-type {\n",
              "        vertical-align: middle;\n",
              "    }\n",
              "\n",
              "    .dataframe tbody tr th {\n",
              "        vertical-align: top;\n",
              "    }\n",
              "\n",
              "    .dataframe thead th {\n",
              "        text-align: right;\n",
              "    }\n",
              "</style>\n",
              "<table border=\"1\" class=\"dataframe\">\n",
              "  <thead>\n",
              "    <tr style=\"text-align: right;\">\n",
              "      <th></th>\n",
              "      <th>Accuracy score</th>\n",
              "    </tr>\n",
              "  </thead>\n",
              "  <tbody>\n",
              "    <tr>\n",
              "      <th>RBF</th>\n",
              "      <td>0.855436</td>\n",
              "    </tr>\n",
              "    <tr>\n",
              "      <th>Linear SVM</th>\n",
              "      <td>0.820789</td>\n",
              "    </tr>\n",
              "    <tr>\n",
              "      <th>Polinomial SVM</th>\n",
              "      <td>0.781362</td>\n",
              "    </tr>\n",
              "    <tr>\n",
              "      <th>KNN</th>\n",
              "      <td>0.775388</td>\n",
              "    </tr>\n",
              "    <tr>\n",
              "      <th>MultinomialNB</th>\n",
              "      <td>0.713262</td>\n",
              "    </tr>\n",
              "    <tr>\n",
              "      <th>GaussianNB</th>\n",
              "      <td>0.551971</td>\n",
              "    </tr>\n",
              "  </tbody>\n",
              "</table>\n",
              "</div>\n",
              "      <button class=\"colab-df-convert\" onclick=\"convertToInteractive('df-d919a50e-e164-408b-a15d-ef62c6d8db3a')\"\n",
              "              title=\"Convert this dataframe to an interactive table.\"\n",
              "              style=\"display:none;\">\n",
              "        \n",
              "  <svg xmlns=\"http://www.w3.org/2000/svg\" height=\"24px\"viewBox=\"0 0 24 24\"\n",
              "       width=\"24px\">\n",
              "    <path d=\"M0 0h24v24H0V0z\" fill=\"none\"/>\n",
              "    <path d=\"M18.56 5.44l.94 2.06.94-2.06 2.06-.94-2.06-.94-.94-2.06-.94 2.06-2.06.94zm-11 1L8.5 8.5l.94-2.06 2.06-.94-2.06-.94L8.5 2.5l-.94 2.06-2.06.94zm10 10l.94 2.06.94-2.06 2.06-.94-2.06-.94-.94-2.06-.94 2.06-2.06.94z\"/><path d=\"M17.41 7.96l-1.37-1.37c-.4-.4-.92-.59-1.43-.59-.52 0-1.04.2-1.43.59L10.3 9.45l-7.72 7.72c-.78.78-.78 2.05 0 2.83L4 21.41c.39.39.9.59 1.41.59.51 0 1.02-.2 1.41-.59l7.78-7.78 2.81-2.81c.8-.78.8-2.07 0-2.86zM5.41 20L4 18.59l7.72-7.72 1.47 1.35L5.41 20z\"/>\n",
              "  </svg>\n",
              "      </button>\n",
              "      \n",
              "  <style>\n",
              "    .colab-df-container {\n",
              "      display:flex;\n",
              "      flex-wrap:wrap;\n",
              "      gap: 12px;\n",
              "    }\n",
              "\n",
              "    .colab-df-convert {\n",
              "      background-color: #E8F0FE;\n",
              "      border: none;\n",
              "      border-radius: 50%;\n",
              "      cursor: pointer;\n",
              "      display: none;\n",
              "      fill: #1967D2;\n",
              "      height: 32px;\n",
              "      padding: 0 0 0 0;\n",
              "      width: 32px;\n",
              "    }\n",
              "\n",
              "    .colab-df-convert:hover {\n",
              "      background-color: #E2EBFA;\n",
              "      box-shadow: 0px 1px 2px rgba(60, 64, 67, 0.3), 0px 1px 3px 1px rgba(60, 64, 67, 0.15);\n",
              "      fill: #174EA6;\n",
              "    }\n",
              "\n",
              "    [theme=dark] .colab-df-convert {\n",
              "      background-color: #3B4455;\n",
              "      fill: #D2E3FC;\n",
              "    }\n",
              "\n",
              "    [theme=dark] .colab-df-convert:hover {\n",
              "      background-color: #434B5C;\n",
              "      box-shadow: 0px 1px 3px 1px rgba(0, 0, 0, 0.15);\n",
              "      filter: drop-shadow(0px 1px 2px rgba(0, 0, 0, 0.3));\n",
              "      fill: #FFFFFF;\n",
              "    }\n",
              "  </style>\n",
              "\n",
              "      <script>\n",
              "        const buttonEl =\n",
              "          document.querySelector('#df-d919a50e-e164-408b-a15d-ef62c6d8db3a button.colab-df-convert');\n",
              "        buttonEl.style.display =\n",
              "          google.colab.kernel.accessAllowed ? 'block' : 'none';\n",
              "\n",
              "        async function convertToInteractive(key) {\n",
              "          const element = document.querySelector('#df-d919a50e-e164-408b-a15d-ef62c6d8db3a');\n",
              "          const dataTable =\n",
              "            await google.colab.kernel.invokeFunction('convertToInteractive',\n",
              "                                                     [key], {});\n",
              "          if (!dataTable) return;\n",
              "\n",
              "          const docLinkHtml = 'Like what you see? Visit the ' +\n",
              "            '<a target=\"_blank\" href=https://colab.research.google.com/notebooks/data_table.ipynb>data table notebook</a>'\n",
              "            + ' to learn more about interactive tables.';\n",
              "          element.innerHTML = '';\n",
              "          dataTable['output_type'] = 'display_data';\n",
              "          await google.colab.output.renderOutput(dataTable, element);\n",
              "          const docLink = document.createElement('div');\n",
              "          docLink.innerHTML = docLinkHtml;\n",
              "          element.appendChild(docLink);\n",
              "        }\n",
              "      </script>\n",
              "    </div>\n",
              "  </div>\n",
              "  "
            ],
            "text/plain": [
              "                Accuracy score\n",
              "RBF                   0.855436\n",
              "Linear SVM            0.820789\n",
              "Polinomial SVM        0.781362\n",
              "KNN                   0.775388\n",
              "MultinomialNB         0.713262\n",
              "GaussianNB            0.551971"
            ]
          },
          "metadata": {},
          "execution_count": 677
        }
      ]
    },
    {
      "cell_type": "markdown",
      "source": [
        "From the above accuracy scores rbf SVM is most suitable for classification given supervised learning algorithms(without much data preprocessing)."
      ],
      "metadata": {
        "id": "iElGc0ZomJLq"
      }
    }
  ],
  "metadata": {
    "colab": {
      "collapsed_sections": [],
      "name": "hw_recg.ipynb",
      "provenance": []
    },
    "kernelspec": {
      "display_name": "Python 3",
      "name": "python3"
    },
    "language_info": {
      "name": "python"
    }
  },
  "nbformat": 4,
  "nbformat_minor": 0
}